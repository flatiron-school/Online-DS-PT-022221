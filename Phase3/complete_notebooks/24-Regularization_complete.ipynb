{
 "cells": [
  {
   "cell_type": "markdown",
   "metadata": {},
   "source": [
    "# Regularization\n",
    "\n",
    "## Why Regularize?\n",
    "\n",
    "In an attempt to fit a good model to data, we often tend to overfit. Regularization discourages overly complex models by penalizing the loss function.\n",
    "\n",
    "### The Bias-Variance Tradeoff\n",
    "\n",
    "When we did Linear Regression, we briefly talked about the Bias-Variance Tradeoff.\n",
    "\n",
    "![](http://scott.fortmann-roe.com/docs/docs/BiasVariance/biasvariance.png)\n",
    "\n",
    "![](https://miro.medium.com/max/544/1*Y-yJiR0FzMgchPA-Fm5c1Q.jpeg)"
   ]
  },
  {
   "cell_type": "markdown",
   "metadata": {},
   "source": [
    "**High bias** \n",
    "\n",
    " - Systematic error in predictions (i.e. the average)\n",
    " - Bias is about the strength of assumptions the model makes\n",
    " - Underfit models tend to have high bias\n",
    "\n",
    "\n",
    "**High variance**\n",
    "\n",
    " - The model is highly sensitive to changes in the data\n",
    " - Overfit models tend to have low bias and high variance\n",
    "    \n",
    "    \n",
    "![](https://gblobscdn.gitbook.com/assets%2F-LvBP1svpACTB1R1x_U4%2F-LvNWUoWieQqaGmU_gl9%2F-LvNoby-llz4QzAK15nL%2Fimage.png?alt=media&token=41720ce9-bb66-4419-9bd8-640abf1fc415)\n",
    "\n",
    " - Underfit Models fail to capture all of the information in the data\n",
    " - Overfit models fit to the noise in the data and fail to generalize\n",
    "\n",
    "\n",
    "**How would we know if our model is over or underfit?**\n",
    " - Train test split & look at the testing error\n",
    " - As model complexity increases so does the possibility for overfitting"
   ]
  },
  {
   "cell_type": "markdown",
   "metadata": {},
   "source": [
    "## Ridge and Lasso\n",
    "\n",
    "Ridge and Lasso regression are two examples of penalized estimation. Penalized estimation makes some or all of the coefficients smaller in magnitude (closer to zero). Some of the penalties have the property of performing both variable selection (setting some coefficients exactly equal to zero) and shrinking the other coefficients. \n",
    "\n",
    "In Ridge regression, the cost function is changed by adding a penalty term to the square of the magnitude of the coefficients. \n",
    "\n",
    "$$ \\text{cost_function_ridge}= \\sum_{i=1}^n(y_i - \\hat{y})^2 = \\sum_{i=1}^n(y_i - \\sum_{j=1}^k(m_jx_{ij})-b)^2 + \\lambda \\sum_{j=1}^p m_j^2$$\n",
    "\n",
    "Lasso regression (Least Absolute Shrinkage and Selection Operator) is very similar to Ridge regression, except that the magnitude of the coefficients are not squared in the penalty term.\n",
    "\n",
    "$$ \\text{cost_function_lasso}= \\sum_{i=1}^n(y_i - \\hat{y})^2 = \\sum_{i=1}^n(y_i - \\sum_{j=1}^k(m_jx_{ij})-b)^2 + \\lambda \\sum_{j=1}^p \\mid m_j \\mid$$\n",
    "\n",
    "So we're penalizing large coefficients -- what are the effects/implications of that?\n",
    "\n",
    "### Standardization before Regularization\n",
    "\n",
    "An important step before using either Lasso or Ridge regularization is to first standardize your data such that it is all on the same scale. Regularization is based on the concept of penalizing larger coefficients, so **if you have features that are on different scales, some will get unfairly penalized**. A downside of standardization is that the value of the coefficients become less interpretable and must be transformed back to their original scale if you want to interpret how a one unit change in a feature impacts the target variable.\n",
    "\n",
    "**Scaler documentation:**\n",
    "\n",
    "* https://scikit-learn.org/stable/modules/generated/sklearn.preprocessing.MinMaxScaler.html\n",
    "* https://scikit-learn.org/stable/modules/generated/sklearn.preprocessing.StandardScaler.html"
   ]
  },
  {
   "cell_type": "markdown",
   "metadata": {},
   "source": [
    "## Let's Code! \n",
    "\n",
    "Start with a regular Linear Regression."
   ]
  },
  {
   "cell_type": "code",
   "execution_count": 1,
   "metadata": {},
   "outputs": [],
   "source": [
    "import pandas as pd\n",
    "import numpy as np\n",
    "\n",
    "import matplotlib.pyplot as plt\n",
    "\n",
    "from sklearn.model_selection import train_test_split\n",
    "from sklearn.metrics import mean_squared_error, r2_score\n",
    "from sklearn.linear_model import LinearRegression\n",
    "from sklearn.impute import SimpleImputer\n",
    "from sklearn.preprocessing import StandardScaler, MinMaxScaler\n",
    "from sklearn.preprocessing import OneHotEncoder\n",
    "\n",
    "# import warnings\n",
    "# warnings.filterwarnings('ignore')"
   ]
  },
  {
   "cell_type": "code",
   "execution_count": 2,
   "metadata": {},
   "outputs": [],
   "source": [
    "df = pd.read_csv('data/ames_train.csv') # Ames housing data\n",
    "\n",
    "# Drop sale detail columns \n",
    "df = df.drop(columns = ['Id', 'MoSold', 'YrSold', 'SaleType', 'SaleCondition'])\n",
    "\n",
    "# Create X and y\n",
    "y = df['SalePrice']\n",
    "X = df.drop(columns=['SalePrice'], axis=1)\n",
    "\n",
    "# Split data into training and test sets\n",
    "X_train, X_test, y_train, y_test = train_test_split(X, y, random_state=42)"
   ]
  },
  {
   "cell_type": "markdown",
   "metadata": {},
   "source": [
    "### Time to Clean/Process"
   ]
  },
  {
   "cell_type": "code",
   "execution_count": 3,
   "metadata": {},
   "outputs": [
    {
     "name": "stdout",
     "output_type": "stream",
     "text": [
      "<class 'pandas.core.frame.DataFrame'>\n",
      "Int64Index: 1095 entries, 1023 to 1126\n",
      "Data columns (total 75 columns):\n",
      " #   Column         Non-Null Count  Dtype  \n",
      "---  ------         --------------  -----  \n",
      " 0   MSSubClass     1095 non-null   int64  \n",
      " 1   MSZoning       1095 non-null   object \n",
      " 2   LotFrontage    895 non-null    float64\n",
      " 3   LotArea        1095 non-null   int64  \n",
      " 4   Street         1095 non-null   object \n",
      " 5   Alley          70 non-null     object \n",
      " 6   LotShape       1095 non-null   object \n",
      " 7   LandContour    1095 non-null   object \n",
      " 8   Utilities      1095 non-null   object \n",
      " 9   LotConfig      1095 non-null   object \n",
      " 10  LandSlope      1095 non-null   object \n",
      " 11  Neighborhood   1095 non-null   object \n",
      " 12  Condition1     1095 non-null   object \n",
      " 13  Condition2     1095 non-null   object \n",
      " 14  BldgType       1095 non-null   object \n",
      " 15  HouseStyle     1095 non-null   object \n",
      " 16  OverallQual    1095 non-null   int64  \n",
      " 17  OverallCond    1095 non-null   int64  \n",
      " 18  YearBuilt      1095 non-null   int64  \n",
      " 19  YearRemodAdd   1095 non-null   int64  \n",
      " 20  RoofStyle      1095 non-null   object \n",
      " 21  RoofMatl       1095 non-null   object \n",
      " 22  Exterior1st    1095 non-null   object \n",
      " 23  Exterior2nd    1095 non-null   object \n",
      " 24  MasVnrType     1091 non-null   object \n",
      " 25  MasVnrArea     1091 non-null   float64\n",
      " 26  ExterQual      1095 non-null   object \n",
      " 27  ExterCond      1095 non-null   object \n",
      " 28  Foundation     1095 non-null   object \n",
      " 29  BsmtQual       1068 non-null   object \n",
      " 30  BsmtCond       1068 non-null   object \n",
      " 31  BsmtExposure   1068 non-null   object \n",
      " 32  BsmtFinType1   1068 non-null   object \n",
      " 33  BsmtFinSF1     1095 non-null   int64  \n",
      " 34  BsmtFinType2   1068 non-null   object \n",
      " 35  BsmtFinSF2     1095 non-null   int64  \n",
      " 36  BsmtUnfSF      1095 non-null   int64  \n",
      " 37  TotalBsmtSF    1095 non-null   int64  \n",
      " 38  Heating        1095 non-null   object \n",
      " 39  HeatingQC      1095 non-null   object \n",
      " 40  CentralAir     1095 non-null   object \n",
      " 41  Electrical     1094 non-null   object \n",
      " 42  1stFlrSF       1095 non-null   int64  \n",
      " 43  2ndFlrSF       1095 non-null   int64  \n",
      " 44  LowQualFinSF   1095 non-null   int64  \n",
      " 45  GrLivArea      1095 non-null   int64  \n",
      " 46  BsmtFullBath   1095 non-null   int64  \n",
      " 47  BsmtHalfBath   1095 non-null   int64  \n",
      " 48  FullBath       1095 non-null   int64  \n",
      " 49  HalfBath       1095 non-null   int64  \n",
      " 50  BedroomAbvGr   1095 non-null   int64  \n",
      " 51  KitchenAbvGr   1095 non-null   int64  \n",
      " 52  KitchenQual    1095 non-null   object \n",
      " 53  TotRmsAbvGrd   1095 non-null   int64  \n",
      " 54  Functional     1095 non-null   object \n",
      " 55  Fireplaces     1095 non-null   int64  \n",
      " 56  FireplaceQu    583 non-null    object \n",
      " 57  GarageType     1037 non-null   object \n",
      " 58  GarageYrBlt    1037 non-null   float64\n",
      " 59  GarageFinish   1037 non-null   object \n",
      " 60  GarageCars     1095 non-null   int64  \n",
      " 61  GarageArea     1095 non-null   int64  \n",
      " 62  GarageQual     1037 non-null   object \n",
      " 63  GarageCond     1037 non-null   object \n",
      " 64  PavedDrive     1095 non-null   object \n",
      " 65  WoodDeckSF     1095 non-null   int64  \n",
      " 66  OpenPorchSF    1095 non-null   int64  \n",
      " 67  EnclosedPorch  1095 non-null   int64  \n",
      " 68  3SsnPorch      1095 non-null   int64  \n",
      " 69  ScreenPorch    1095 non-null   int64  \n",
      " 70  PoolArea       1095 non-null   int64  \n",
      " 71  PoolQC         6 non-null      object \n",
      " 72  Fence          218 non-null    object \n",
      " 73  MiscFeature    43 non-null     object \n",
      " 74  MiscVal        1095 non-null   int64  \n",
      "dtypes: float64(3), int64(31), object(41)\n",
      "memory usage: 650.2+ KB\n"
     ]
    }
   ],
   "source": [
    "# Explore X_train\n",
    "X_train.info()"
   ]
  },
  {
   "cell_type": "code",
   "execution_count": 8,
   "metadata": {
    "scrolled": true
   },
   "outputs": [],
   "source": [
    "# Let's check the percentage of our training data that's null per column\n",
    "null_perc = X_train.isna().sum()/ len(X_train)"
   ]
  },
  {
   "cell_type": "code",
   "execution_count": 12,
   "metadata": {},
   "outputs": [
    {
     "data": {
      "text/plain": [
       "PoolQC          0.994521\n",
       "MiscFeature     0.960731\n",
       "Alley           0.936073\n",
       "Fence           0.800913\n",
       "FireplaceQu     0.467580\n",
       "LotFrontage     0.182648\n",
       "GarageQual      0.052968\n",
       "GarageType      0.052968\n",
       "GarageYrBlt     0.052968\n",
       "GarageFinish    0.052968\n",
       "dtype: float64"
      ]
     },
     "execution_count": 12,
     "metadata": {},
     "output_type": "execute_result"
    }
   ],
   "source": [
    "null_perc.sort_values(ascending=False).head(10)"
   ]
  },
  {
   "cell_type": "code",
   "execution_count": 17,
   "metadata": {},
   "outputs": [
    {
     "name": "stdout",
     "output_type": "stream",
     "text": [
      "['LotFrontage', 'Alley', 'FireplaceQu', 'PoolQC', 'Fence', 'MiscFeature']\n"
     ]
    }
   ],
   "source": [
    "# Drop where nulls are more than 10% of column\n",
    "null_cols = list(null_perc.loc[null_perc > .1].index)\n",
    "print(null_cols)\n",
    "\n",
    "X_train = X_train.drop(columns=null_cols)\n",
    "X_test = X_test.drop(columns=null_cols)"
   ]
  },
  {
   "cell_type": "code",
   "execution_count": 18,
   "metadata": {},
   "outputs": [
    {
     "data": {
      "text/plain": [
       "Index(['MSSubClass', 'MSZoning', 'LotArea', 'Street', 'LotShape',\n",
       "       'LandContour', 'Utilities', 'LotConfig', 'LandSlope', 'Neighborhood',\n",
       "       'Condition1', 'Condition2', 'BldgType', 'HouseStyle', 'OverallQual',\n",
       "       'OverallCond', 'YearBuilt', 'YearRemodAdd', 'RoofStyle', 'RoofMatl',\n",
       "       'Exterior1st', 'Exterior2nd', 'MasVnrType', 'MasVnrArea', 'ExterQual',\n",
       "       'ExterCond', 'Foundation', 'BsmtQual', 'BsmtCond', 'BsmtExposure',\n",
       "       'BsmtFinType1', 'BsmtFinSF1', 'BsmtFinType2', 'BsmtFinSF2', 'BsmtUnfSF',\n",
       "       'TotalBsmtSF', 'Heating', 'HeatingQC', 'CentralAir', 'Electrical',\n",
       "       '1stFlrSF', '2ndFlrSF', 'LowQualFinSF', 'GrLivArea', 'BsmtFullBath',\n",
       "       'BsmtHalfBath', 'FullBath', 'HalfBath', 'BedroomAbvGr', 'KitchenAbvGr',\n",
       "       'KitchenQual', 'TotRmsAbvGrd', 'Functional', 'Fireplaces', 'GarageType',\n",
       "       'GarageYrBlt', 'GarageFinish', 'GarageCars', 'GarageArea', 'GarageQual',\n",
       "       'GarageCond', 'PavedDrive', 'WoodDeckSF', 'OpenPorchSF',\n",
       "       'EnclosedPorch', '3SsnPorch', 'ScreenPorch', 'PoolArea', 'MiscVal'],\n",
       "      dtype='object')"
      ]
     },
     "execution_count": 18,
     "metadata": {},
     "output_type": "execute_result"
    }
   ],
   "source": [
    "X_train.columns"
   ]
  },
  {
   "cell_type": "code",
   "execution_count": 19,
   "metadata": {},
   "outputs": [
    {
     "data": {
      "text/plain": [
       "dtype('int64')"
      ]
     },
     "execution_count": 19,
     "metadata": {},
     "output_type": "execute_result"
    }
   ],
   "source": [
    "X_train['MSSubClass'].dtype"
   ]
  },
  {
   "cell_type": "code",
   "execution_count": 20,
   "metadata": {},
   "outputs": [
    {
     "name": "stdout",
     "output_type": "stream",
     "text": [
      "<class 'pandas.core.frame.DataFrame'>\n",
      "Int64Index: 1095 entries, 1023 to 1126\n",
      "Data columns (total 69 columns):\n",
      " #   Column         Non-Null Count  Dtype  \n",
      "---  ------         --------------  -----  \n",
      " 0   MSSubClass     1095 non-null   int64  \n",
      " 1   MSZoning       1095 non-null   object \n",
      " 2   LotArea        1095 non-null   int64  \n",
      " 3   Street         1095 non-null   object \n",
      " 4   LotShape       1095 non-null   object \n",
      " 5   LandContour    1095 non-null   object \n",
      " 6   Utilities      1095 non-null   object \n",
      " 7   LotConfig      1095 non-null   object \n",
      " 8   LandSlope      1095 non-null   object \n",
      " 9   Neighborhood   1095 non-null   object \n",
      " 10  Condition1     1095 non-null   object \n",
      " 11  Condition2     1095 non-null   object \n",
      " 12  BldgType       1095 non-null   object \n",
      " 13  HouseStyle     1095 non-null   object \n",
      " 14  OverallQual    1095 non-null   int64  \n",
      " 15  OverallCond    1095 non-null   int64  \n",
      " 16  YearBuilt      1095 non-null   int64  \n",
      " 17  YearRemodAdd   1095 non-null   int64  \n",
      " 18  RoofStyle      1095 non-null   object \n",
      " 19  RoofMatl       1095 non-null   object \n",
      " 20  Exterior1st    1095 non-null   object \n",
      " 21  Exterior2nd    1095 non-null   object \n",
      " 22  MasVnrType     1091 non-null   object \n",
      " 23  MasVnrArea     1091 non-null   float64\n",
      " 24  ExterQual      1095 non-null   object \n",
      " 25  ExterCond      1095 non-null   object \n",
      " 26  Foundation     1095 non-null   object \n",
      " 27  BsmtQual       1068 non-null   object \n",
      " 28  BsmtCond       1068 non-null   object \n",
      " 29  BsmtExposure   1068 non-null   object \n",
      " 30  BsmtFinType1   1068 non-null   object \n",
      " 31  BsmtFinSF1     1095 non-null   int64  \n",
      " 32  BsmtFinType2   1068 non-null   object \n",
      " 33  BsmtFinSF2     1095 non-null   int64  \n",
      " 34  BsmtUnfSF      1095 non-null   int64  \n",
      " 35  TotalBsmtSF    1095 non-null   int64  \n",
      " 36  Heating        1095 non-null   object \n",
      " 37  HeatingQC      1095 non-null   object \n",
      " 38  CentralAir     1095 non-null   object \n",
      " 39  Electrical     1094 non-null   object \n",
      " 40  1stFlrSF       1095 non-null   int64  \n",
      " 41  2ndFlrSF       1095 non-null   int64  \n",
      " 42  LowQualFinSF   1095 non-null   int64  \n",
      " 43  GrLivArea      1095 non-null   int64  \n",
      " 44  BsmtFullBath   1095 non-null   int64  \n",
      " 45  BsmtHalfBath   1095 non-null   int64  \n",
      " 46  FullBath       1095 non-null   int64  \n",
      " 47  HalfBath       1095 non-null   int64  \n",
      " 48  BedroomAbvGr   1095 non-null   int64  \n",
      " 49  KitchenAbvGr   1095 non-null   int64  \n",
      " 50  KitchenQual    1095 non-null   object \n",
      " 51  TotRmsAbvGrd   1095 non-null   int64  \n",
      " 52  Functional     1095 non-null   object \n",
      " 53  Fireplaces     1095 non-null   int64  \n",
      " 54  GarageType     1037 non-null   object \n",
      " 55  GarageYrBlt    1037 non-null   float64\n",
      " 56  GarageFinish   1037 non-null   object \n",
      " 57  GarageCars     1095 non-null   int64  \n",
      " 58  GarageArea     1095 non-null   int64  \n",
      " 59  GarageQual     1037 non-null   object \n",
      " 60  GarageCond     1037 non-null   object \n",
      " 61  PavedDrive     1095 non-null   object \n",
      " 62  WoodDeckSF     1095 non-null   int64  \n",
      " 63  OpenPorchSF    1095 non-null   int64  \n",
      " 64  EnclosedPorch  1095 non-null   int64  \n",
      " 65  3SsnPorch      1095 non-null   int64  \n",
      " 66  ScreenPorch    1095 non-null   int64  \n",
      " 67  PoolArea       1095 non-null   int64  \n",
      " 68  MiscVal        1095 non-null   int64  \n",
      "dtypes: float64(2), int64(31), object(36)\n",
      "memory usage: 598.8+ KB\n"
     ]
    }
   ],
   "source": [
    "X_train.info()"
   ]
  },
  {
   "cell_type": "code",
   "execution_count": 61,
   "metadata": {},
   "outputs": [],
   "source": [
    "# Start with the continuous variables\n",
    "\n",
    "# Grab only numeric features\n",
    "num_cols = [col for col in X_train.columns if X_train[col].dtype in [np.int64, np.float64]]\n",
    "\n",
    "X_train_cont = X_train[num_cols]\n",
    "X_test_cont = X_test[num_cols]\n",
    "\n",
    "# Impute missing values with 0 using SimpleImputer\n",
    "# (most columns look like they just don't have details)\n",
    "imputer = SimpleImputer(strategy = 'constant', fill_value = 0)\n",
    "\n",
    "X_train_impute = imputer.fit_transform(X_train_cont)\n",
    "X_test_impute = imputer.transform(X_test_cont)\n",
    "\n",
    "# Scale the train and test data\n",
    "scaler = MinMaxScaler()\n",
    "\n",
    "X_train_scaled = scaler.fit_transform(X_train_impute)\n",
    "X_test_scaled = scaler.transform(X_test_impute)"
   ]
  },
  {
   "cell_type": "code",
   "execution_count": 62,
   "metadata": {},
   "outputs": [],
   "source": [
    "# Now time for the categorical columns\n",
    "\n",
    "# Create X_cat which contains only the categorical variables\n",
    "cat_cols = [col for col in X_train.columns if X_train[col].dtype in [np.object]]\n",
    "\n",
    "X_train_cat = X_train[cat_cols]\n",
    "X_test_cat = X_test[cat_cols]\n",
    "\n",
    "# Fill missing values with the string 'missing'\n",
    "cat_imputer = SimpleImputer(strategy = 'constant', fill_value = 'missing')\n",
    "\n",
    "X_train_cat = pd.DataFrame(cat_imputer.fit_transform(X_train_cat), columns=cat_cols)\n",
    "X_test_cat = pd.DataFrame(cat_imputer.transform(X_test_cat), columns=cat_cols)"
   ]
  },
  {
   "cell_type": "code",
   "execution_count": 63,
   "metadata": {},
   "outputs": [
    {
     "data": {
      "text/plain": [
       "0.4940639269406393"
      ]
     },
     "execution_count": 63,
     "metadata": {},
     "output_type": "execute_result"
    }
   ],
   "source": [
    "X_train_cat['HouseStyle'].value_counts(normalize=True)[0]"
   ]
  },
  {
   "cell_type": "code",
   "execution_count": 64,
   "metadata": {
    "scrolled": false
   },
   "outputs": [
    {
     "data": {
      "text/plain": [
       "RL         0.790868\n",
       "RM         0.149772\n",
       "FV         0.042922\n",
       "RH         0.012785\n",
       "C (all)    0.003653\n",
       "Name: MSZoning, dtype: float64"
      ]
     },
     "metadata": {},
     "output_type": "display_data"
    },
    {
     "data": {
      "text/plain": [
       "Pave    0.996347\n",
       "Grvl    0.003653\n",
       "Name: Street, dtype: float64"
      ]
     },
     "metadata": {},
     "output_type": "display_data"
    },
    {
     "name": "stdout",
     "output_type": "stream",
     "text": [
      "You should remove Street\n"
     ]
    },
    {
     "data": {
      "text/plain": [
       "Reg    0.621918\n",
       "IR1    0.338813\n",
       "IR2    0.031963\n",
       "IR3    0.007306\n",
       "Name: LotShape, dtype: float64"
      ]
     },
     "metadata": {},
     "output_type": "display_data"
    },
    {
     "data": {
      "text/plain": [
       "Lvl    0.905936\n",
       "Bnk    0.041096\n",
       "HLS    0.029224\n",
       "Low    0.023744\n",
       "Name: LandContour, dtype: float64"
      ]
     },
     "metadata": {},
     "output_type": "display_data"
    },
    {
     "name": "stdout",
     "output_type": "stream",
     "text": [
      "You should remove LandContour\n"
     ]
    },
    {
     "data": {
      "text/plain": [
       "AllPub    0.999087\n",
       "NoSeWa    0.000913\n",
       "Name: Utilities, dtype: float64"
      ]
     },
     "metadata": {},
     "output_type": "display_data"
    },
    {
     "name": "stdout",
     "output_type": "stream",
     "text": [
      "You should remove Utilities\n"
     ]
    },
    {
     "data": {
      "text/plain": [
       "Inside     0.699543\n",
       "Corner     0.190868\n",
       "CulDSac    0.073059\n",
       "FR2        0.033790\n",
       "FR3        0.002740\n",
       "Name: LotConfig, dtype: float64"
      ]
     },
     "metadata": {},
     "output_type": "display_data"
    },
    {
     "data": {
      "text/plain": [
       "Gtl    0.946119\n",
       "Mod    0.045662\n",
       "Sev    0.008219\n",
       "Name: LandSlope, dtype: float64"
      ]
     },
     "metadata": {},
     "output_type": "display_data"
    },
    {
     "name": "stdout",
     "output_type": "stream",
     "text": [
      "You should remove LandSlope\n"
     ]
    },
    {
     "data": {
      "text/plain": [
       "NAmes      0.152511\n",
       "CollgCr    0.102283\n",
       "OldTown    0.079452\n",
       "Edwards    0.075799\n",
       "Somerst    0.056621\n",
       "NWAmes     0.054795\n",
       "Gilbert    0.053881\n",
       "NridgHt    0.052968\n",
       "Sawyer     0.046575\n",
       "BrkSide    0.040183\n",
       "SawyerW    0.036530\n",
       "Crawfor    0.035616\n",
       "Mitchel    0.034703\n",
       "NoRidge    0.028311\n",
       "Timber     0.024658\n",
       "IDOTRR     0.022831\n",
       "StoneBr    0.018265\n",
       "ClearCr    0.017352\n",
       "SWISU      0.016438\n",
       "Blmngtn    0.013699\n",
       "BrDale     0.011872\n",
       "MeadowV    0.009132\n",
       "Veenker    0.008219\n",
       "NPkVill    0.006393\n",
       "Blueste    0.000913\n",
       "Name: Neighborhood, dtype: float64"
      ]
     },
     "metadata": {},
     "output_type": "display_data"
    },
    {
     "data": {
      "text/plain": [
       "Norm      0.863927\n",
       "Feedr     0.053881\n",
       "Artery    0.033790\n",
       "RRAn      0.015525\n",
       "PosN      0.012785\n",
       "RRAe      0.009132\n",
       "PosA      0.005479\n",
       "RRNn      0.004566\n",
       "RRNe      0.000913\n",
       "Name: Condition1, dtype: float64"
      ]
     },
     "metadata": {},
     "output_type": "display_data"
    },
    {
     "data": {
      "text/plain": [
       "Norm      0.991781\n",
       "Feedr     0.002740\n",
       "PosN      0.001826\n",
       "Artery    0.001826\n",
       "RRAe      0.000913\n",
       "RRAn      0.000913\n",
       "Name: Condition2, dtype: float64"
      ]
     },
     "metadata": {},
     "output_type": "display_data"
    },
    {
     "name": "stdout",
     "output_type": "stream",
     "text": [
      "You should remove Condition2\n"
     ]
    },
    {
     "data": {
      "text/plain": [
       "1Fam      0.835616\n",
       "TwnhsE    0.076712\n",
       "Duplex    0.033790\n",
       "Twnhs     0.029224\n",
       "2fmCon    0.024658\n",
       "Name: BldgType, dtype: float64"
      ]
     },
     "metadata": {},
     "output_type": "display_data"
    },
    {
     "data": {
      "text/plain": [
       "1Story    0.494064\n",
       "2Story    0.309589\n",
       "1.5Fin    0.104110\n",
       "SLvl      0.045662\n",
       "SFoyer    0.021005\n",
       "1.5Unf    0.010046\n",
       "2.5Unf    0.009132\n",
       "2.5Fin    0.006393\n",
       "Name: HouseStyle, dtype: float64"
      ]
     },
     "metadata": {},
     "output_type": "display_data"
    },
    {
     "data": {
      "text/plain": [
       "Gable      0.769863\n",
       "Hip        0.205479\n",
       "Flat       0.010046\n",
       "Gambrel    0.008219\n",
       "Mansard    0.004566\n",
       "Shed       0.001826\n",
       "Name: RoofStyle, dtype: float64"
      ]
     },
     "metadata": {},
     "output_type": "display_data"
    },
    {
     "data": {
      "text/plain": [
       "CompShg    0.982648\n",
       "Tar&Grv    0.008219\n",
       "WdShngl    0.003653\n",
       "WdShake    0.002740\n",
       "Roll       0.000913\n",
       "Metal      0.000913\n",
       "ClyTile    0.000913\n",
       "Name: RoofMatl, dtype: float64"
      ]
     },
     "metadata": {},
     "output_type": "display_data"
    },
    {
     "name": "stdout",
     "output_type": "stream",
     "text": [
      "You should remove RoofMatl\n"
     ]
    },
    {
     "data": {
      "text/plain": [
       "VinylSd    0.359817\n",
       "HdBoard    0.152511\n",
       "MetalSd    0.146119\n",
       "Wd Sdng    0.145205\n",
       "Plywood    0.068493\n",
       "CemntBd    0.038356\n",
       "BrkFace    0.034703\n",
       "Stucco     0.017352\n",
       "WdShing    0.017352\n",
       "AsbShng    0.014612\n",
       "BrkComm    0.001826\n",
       "ImStucc    0.000913\n",
       "CBlock     0.000913\n",
       "Stone      0.000913\n",
       "AsphShn    0.000913\n",
       "Name: Exterior1st, dtype: float64"
      ]
     },
     "metadata": {},
     "output_type": "display_data"
    },
    {
     "data": {
      "text/plain": [
       "VinylSd    0.351598\n",
       "HdBoard    0.140639\n",
       "Wd Sdng    0.140639\n",
       "MetalSd    0.139726\n",
       "Plywood    0.094064\n",
       "CmentBd    0.037443\n",
       "Wd Shng    0.029224\n",
       "Stucco     0.019178\n",
       "AsbShng    0.015525\n",
       "BrkFace    0.013699\n",
       "ImStucc    0.005479\n",
       "Brk Cmn    0.005479\n",
       "Stone      0.002740\n",
       "AsphShn    0.002740\n",
       "CBlock     0.000913\n",
       "Other      0.000913\n",
       "Name: Exterior2nd, dtype: float64"
      ]
     },
     "metadata": {},
     "output_type": "display_data"
    },
    {
     "data": {
      "text/plain": [
       "None       0.579909\n",
       "BrkFace    0.315068\n",
       "Stone      0.090411\n",
       "BrkCmn     0.010959\n",
       "missing    0.003653\n",
       "Name: MasVnrType, dtype: float64"
      ]
     },
     "metadata": {},
     "output_type": "display_data"
    },
    {
     "data": {
      "text/plain": [
       "TA    0.622831\n",
       "Gd    0.331507\n",
       "Ex    0.035616\n",
       "Fa    0.010046\n",
       "Name: ExterQual, dtype: float64"
      ]
     },
     "metadata": {},
     "output_type": "display_data"
    },
    {
     "data": {
      "text/plain": [
       "TA    0.876712\n",
       "Gd    0.098630\n",
       "Fa    0.021918\n",
       "Ex    0.001826\n",
       "Po    0.000913\n",
       "Name: ExterCond, dtype: float64"
      ]
     },
     "metadata": {},
     "output_type": "display_data"
    },
    {
     "data": {
      "text/plain": [
       "PConc     0.449315\n",
       "CBlock    0.427397\n",
       "BrkTil    0.098630\n",
       "Slab      0.017352\n",
       "Stone     0.004566\n",
       "Wood      0.002740\n",
       "Name: Foundation, dtype: float64"
      ]
     },
     "metadata": {},
     "output_type": "display_data"
    },
    {
     "data": {
      "text/plain": [
       "TA         0.442922\n",
       "Gd         0.421005\n",
       "Ex         0.085845\n",
       "Fa         0.025571\n",
       "missing    0.024658\n",
       "Name: BsmtQual, dtype: float64"
      ]
     },
     "metadata": {},
     "output_type": "display_data"
    },
    {
     "data": {
      "text/plain": [
       "TA         0.892237\n",
       "Gd         0.047489\n",
       "Fa         0.034703\n",
       "missing    0.024658\n",
       "Po         0.000913\n",
       "Name: BsmtCond, dtype: float64"
      ]
     },
     "metadata": {},
     "output_type": "display_data"
    },
    {
     "data": {
      "text/plain": [
       "No         0.656621\n",
       "Av         0.148858\n",
       "Gd         0.089498\n",
       "Mn         0.080365\n",
       "missing    0.024658\n",
       "Name: BsmtExposure, dtype: float64"
      ]
     },
     "metadata": {},
     "output_type": "display_data"
    },
    {
     "data": {
      "text/plain": [
       "Unf        0.287671\n",
       "GLQ        0.285845\n",
       "ALQ        0.155251\n",
       "BLQ        0.102283\n",
       "Rec        0.092237\n",
       "LwQ        0.052055\n",
       "missing    0.024658\n",
       "Name: BsmtFinType1, dtype: float64"
      ]
     },
     "metadata": {},
     "output_type": "display_data"
    },
    {
     "data": {
      "text/plain": [
       "Unf        0.863927\n",
       "Rec        0.038356\n",
       "LwQ        0.030137\n",
       "missing    0.024658\n",
       "BLQ        0.018265\n",
       "ALQ        0.015525\n",
       "GLQ        0.009132\n",
       "Name: BsmtFinType2, dtype: float64"
      ]
     },
     "metadata": {},
     "output_type": "display_data"
    },
    {
     "data": {
      "text/plain": [
       "GasA     0.977169\n",
       "GasW     0.013699\n",
       "Grav     0.003653\n",
       "Wall     0.002740\n",
       "OthW     0.001826\n",
       "Floor    0.000913\n",
       "Name: Heating, dtype: float64"
      ]
     },
     "metadata": {},
     "output_type": "display_data"
    },
    {
     "name": "stdout",
     "output_type": "stream",
     "text": [
      "You should remove Heating\n"
     ]
    },
    {
     "data": {
      "text/plain": [
       "Ex    0.506849\n",
       "TA    0.291324\n",
       "Gd    0.165297\n",
       "Fa    0.035616\n",
       "Po    0.000913\n",
       "Name: HeatingQC, dtype: float64"
      ]
     },
     "metadata": {},
     "output_type": "display_data"
    },
    {
     "data": {
      "text/plain": [
       "Y    0.928767\n",
       "N    0.071233\n",
       "Name: CentralAir, dtype: float64"
      ]
     },
     "metadata": {},
     "output_type": "display_data"
    },
    {
     "name": "stdout",
     "output_type": "stream",
     "text": [
      "You should remove CentralAir\n"
     ]
    },
    {
     "data": {
      "text/plain": [
       "SBrkr      0.915068\n",
       "FuseA      0.060274\n",
       "FuseF      0.021005\n",
       "FuseP      0.002740\n",
       "missing    0.000913\n",
       "Name: Electrical, dtype: float64"
      ]
     },
     "metadata": {},
     "output_type": "display_data"
    },
    {
     "name": "stdout",
     "output_type": "stream",
     "text": [
      "You should remove Electrical\n"
     ]
    },
    {
     "data": {
      "text/plain": [
       "TA    0.502283\n",
       "Gd    0.401826\n",
       "Ex    0.066667\n",
       "Fa    0.029224\n",
       "Name: KitchenQual, dtype: float64"
      ]
     },
     "metadata": {},
     "output_type": "display_data"
    },
    {
     "data": {
      "text/plain": [
       "Typ     0.925114\n",
       "Min2    0.025571\n",
       "Min1    0.024658\n",
       "Mod     0.011872\n",
       "Maj1    0.008219\n",
       "Maj2    0.003653\n",
       "Sev     0.000913\n",
       "Name: Functional, dtype: float64"
      ]
     },
     "metadata": {},
     "output_type": "display_data"
    },
    {
     "name": "stdout",
     "output_type": "stream",
     "text": [
      "You should remove Functional\n"
     ]
    },
    {
     "data": {
      "text/plain": [
       "Attchd     0.594521\n",
       "Detchd     0.263927\n",
       "BuiltIn    0.063014\n",
       "missing    0.052968\n",
       "Basment    0.013699\n",
       "CarPort    0.006393\n",
       "2Types     0.005479\n",
       "Name: GarageType, dtype: float64"
      ]
     },
     "metadata": {},
     "output_type": "display_data"
    },
    {
     "data": {
      "text/plain": [
       "Unf        0.410046\n",
       "RFn        0.293151\n",
       "Fin        0.243836\n",
       "missing    0.052968\n",
       "Name: GarageFinish, dtype: float64"
      ]
     },
     "metadata": {},
     "output_type": "display_data"
    },
    {
     "data": {
      "text/plain": [
       "TA         0.900457\n",
       "missing    0.052968\n",
       "Fa         0.031963\n",
       "Gd         0.010959\n",
       "Ex         0.002740\n",
       "Po         0.000913\n",
       "Name: GarageQual, dtype: float64"
      ]
     },
     "metadata": {},
     "output_type": "display_data"
    },
    {
     "name": "stdout",
     "output_type": "stream",
     "text": [
      "You should remove GarageQual\n"
     ]
    },
    {
     "data": {
      "text/plain": [
       "TA         0.908676\n",
       "missing    0.052968\n",
       "Fa         0.024658\n",
       "Gd         0.008219\n",
       "Po         0.003653\n",
       "Ex         0.001826\n",
       "Name: GarageCond, dtype: float64"
      ]
     },
     "metadata": {},
     "output_type": "display_data"
    },
    {
     "name": "stdout",
     "output_type": "stream",
     "text": [
      "You should remove GarageCond\n"
     ]
    },
    {
     "data": {
      "text/plain": [
       "Y    0.916895\n",
       "N    0.061187\n",
       "P    0.021918\n",
       "Name: PavedDrive, dtype: float64"
      ]
     },
     "metadata": {},
     "output_type": "display_data"
    },
    {
     "name": "stdout",
     "output_type": "stream",
     "text": [
      "You should remove PavedDrive\n"
     ]
    }
   ],
   "source": [
    "# Exploring column percentages\n",
    "\n",
    "# Let's remove any column where the most common value is more than 90% of that col\n",
    "low_variance_cols = []\n",
    "\n",
    "for col in X_train_cat.columns:\n",
    "    col_perc = X_train_cat[col].value_counts(normalize=True)\n",
    "    display(col_perc)\n",
    "    \n",
    "    if col_perc[0] > .9:\n",
    "        print(f\"You should remove {col}\")\n",
    "        low_variance_cols.append(col)"
   ]
  },
  {
   "cell_type": "code",
   "execution_count": 65,
   "metadata": {},
   "outputs": [
    {
     "data": {
      "text/plain": [
       "['Street',\n",
       " 'LandContour',\n",
       " 'Utilities',\n",
       " 'LandSlope',\n",
       " 'Condition2',\n",
       " 'RoofMatl',\n",
       " 'Heating',\n",
       " 'CentralAir',\n",
       " 'Electrical',\n",
       " 'Functional',\n",
       " 'GarageQual',\n",
       " 'GarageCond',\n",
       " 'PavedDrive']"
      ]
     },
     "execution_count": 65,
     "metadata": {},
     "output_type": "execute_result"
    }
   ],
   "source": [
    "low_variance_cols"
   ]
  },
  {
   "cell_type": "code",
   "execution_count": 66,
   "metadata": {},
   "outputs": [],
   "source": [
    "# Now drop those\n",
    "X_train_cat = X_train_cat.drop(columns = low_variance_cols)"
   ]
  },
  {
   "cell_type": "code",
   "execution_count": 67,
   "metadata": {},
   "outputs": [],
   "source": [
    "X_test_cat = X_test_cat.drop(columns = low_variance_cols)"
   ]
  },
  {
   "cell_type": "code",
   "execution_count": 68,
   "metadata": {},
   "outputs": [],
   "source": [
    "# OneHotEncode categorical variables\n",
    "ohe = OneHotEncoder(handle_unknown='ignore')\n",
    "\n",
    "X_train_ohe = ohe.fit_transform(X_train_cat)\n",
    "X_test_ohe = ohe.transform(X_test_cat)\n",
    "\n",
    "# Convert these columns into a DataFrame \n",
    "ohe_col_names = ohe.get_feature_names(input_features=X_train_cat.columns)\n",
    "cat_train_df = pd.DataFrame(X_train_ohe.todense(), columns=ohe_col_names)\n",
    "cat_test_df = pd.DataFrame(X_test_ohe.todense(), columns=ohe_col_names)"
   ]
  },
  {
   "cell_type": "code",
   "execution_count": 69,
   "metadata": {},
   "outputs": [
    {
     "data": {
      "text/plain": [
       "33"
      ]
     },
     "execution_count": 69,
     "metadata": {},
     "output_type": "execute_result"
    }
   ],
   "source": [
    "len(num_cols)"
   ]
  },
  {
   "cell_type": "code",
   "execution_count": 70,
   "metadata": {},
   "outputs": [
    {
     "data": {
      "text/plain": [
       "LinearRegression()"
      ]
     },
     "execution_count": 70,
     "metadata": {},
     "output_type": "execute_result"
    }
   ],
   "source": [
    "# Put it all back together\n",
    "train_df = pd.concat([pd.DataFrame(X_train_scaled, columns = num_cols), cat_train_df], axis=1)\n",
    "test_df = pd.concat([pd.DataFrame(X_test_scaled, columns = num_cols), cat_test_df], axis=1)\n",
    "\n",
    "# Fit the model\n",
    "linreg = LinearRegression()\n",
    "\n",
    "linreg.fit(train_df, y_train)"
   ]
  },
  {
   "cell_type": "code",
   "execution_count": 71,
   "metadata": {},
   "outputs": [],
   "source": [
    "# Write a quick evaluation function\n",
    "def evaluate(train_actual, train_predicted, test_actual, test_predicted):\n",
    "    '''\n",
    "    Takes in both actual and predicted values, for the train and test set\n",
    "    Then prints the scores based on those values\n",
    "    \n",
    "    Inputs:\n",
    "    -------\n",
    "    train_actual - actual target values for the train set\n",
    "    train_predicted - predicted target values for the train set\n",
    "    test_actual - actual target values for the test set\n",
    "    test_predicted - predicted target values for the test set\n",
    "    '''\n",
    "    print('Train R2:', r2_score(train_actual, train_predicted))\n",
    "    print('Test R2:', r2_score(test_actual, test_predicted))\n",
    "    print(\"*****\")\n",
    "    print('Train MSE:', mean_squared_error(train_actual, train_predicted))\n",
    "    print('Test MSE:', mean_squared_error(test_actual, test_predicted))\n",
    "    print(\"*****\")\n",
    "    print('Train RMSE:', mean_squared_error(train_actual, train_predicted, squared=False))\n",
    "    print('Test RMSE:', mean_squared_error(test_actual, test_predicted, squared=False))"
   ]
  },
  {
   "cell_type": "code",
   "execution_count": 72,
   "metadata": {
    "scrolled": false
   },
   "outputs": [
    {
     "name": "stdout",
     "output_type": "stream",
     "text": [
      "Train R2: 0.8902021216223257\n",
      "Test R2: -2.2071686650036666e+20\n",
      "*****\n",
      "Train MSE: 666631794.0310502\n",
      "Test MSE: 1.546189862898988e+30\n",
      "*****\n",
      "Train RMSE: 25819.213660199843\n",
      "Test RMSE: 1243458830399699.2\n"
     ]
    }
   ],
   "source": [
    "# Grab predictions and evaluate\n",
    "train_preds = linreg.predict(train_df)\n",
    "test_preds = linreg.predict(test_df)\n",
    "\n",
    "\n",
    "evaluate(y_train, train_preds, y_test, test_preds)"
   ]
  },
  {
   "cell_type": "code",
   "execution_count": 73,
   "metadata": {},
   "outputs": [],
   "source": [
    "# Plot residuals?\n"
   ]
  },
  {
   "cell_type": "code",
   "execution_count": 75,
   "metadata": {
    "scrolled": false
   },
   "outputs": [
    {
     "data": {
      "text/plain": [
       "array([ 2.42939331e+04,  6.92941854e+04,  7.42320937e+04,  4.11704137e+04,\n",
       "        2.65894826e+04,  6.05349865e+03,  4.75400935e+03,  4.76783702e+16,\n",
       "        9.52046833e+15,  1.97336415e+16, -5.16149614e+16, -1.61448744e+16,\n",
       "       -7.65010682e+15, -2.11906107e+15,  1.96642940e+16,  2.48520315e+04,\n",
       "        2.27031926e+02,  2.91072310e+04,  8.35419678e+03, -8.27150894e+03,\n",
       "       -5.42973472e+04,  3.98528927e+04,  1.75974960e+04, -2.04897988e+04,\n",
       "        5.24989700e+04,  6.84785221e+02,  1.86865206e+04, -4.18988285e+03,\n",
       "        8.94510617e+03,  3.56752782e+04,  2.12719550e+04,  5.93325235e+03,\n",
       "       -2.80714220e+04, -1.24604900e+16, -1.24604900e+16, -1.24604900e+16,\n",
       "       -1.24604900e+16, -1.24604900e+16, -2.51038140e+15, -2.51038139e+15,\n",
       "       -2.51038140e+15, -2.51038140e+15, -6.66258627e+14, -6.66258627e+14,\n",
       "       -6.66258627e+14, -6.66258627e+14, -6.66258627e+14,  3.41892602e+14,\n",
       "        3.41892602e+14,  3.41892602e+14,  3.41892602e+14,  3.41892602e+14,\n",
       "        3.41892602e+14,  3.41892602e+14,  3.41892602e+14,  3.41892602e+14,\n",
       "        3.41892602e+14,  3.41892602e+14,  3.41892602e+14,  3.41892602e+14,\n",
       "        3.41892602e+14,  3.41892602e+14,  3.41892602e+14,  3.41892602e+14,\n",
       "        3.41892602e+14,  3.41892602e+14,  3.41892602e+14,  3.41892602e+14,\n",
       "        3.41892602e+14,  3.41892602e+14,  3.41892602e+14,  3.41892602e+14,\n",
       "        2.13048064e+15,  2.13048064e+15,  2.13048064e+15,  2.13048064e+15,\n",
       "        2.13048064e+15,  2.13048064e+15,  2.13048064e+15,  2.13048064e+15,\n",
       "        2.13048064e+15,  2.23156593e+16,  2.23156593e+16,  2.23156593e+16,\n",
       "        2.23156593e+16,  2.23156593e+16,  1.37578177e+16,  1.37578177e+16,\n",
       "        1.37578177e+16,  1.37578177e+16,  1.37578177e+16,  1.37578177e+16,\n",
       "        1.37578177e+16,  1.37578177e+16,  8.20900738e+15,  8.20900738e+15,\n",
       "        8.20900738e+15,  8.20900738e+15,  8.20900738e+15,  8.20900738e+15,\n",
       "        9.13661490e+14,  9.13661490e+14,  9.13661490e+14,  9.13661490e+14,\n",
       "        7.86416937e+14,  9.13661490e+14,  9.13661490e+14,  9.13661490e+14,\n",
       "        9.13661490e+14,  9.13661490e+14,  9.13661490e+14,  9.13661490e+14,\n",
       "        9.13661490e+14,  9.13661490e+14,  9.13661490e+14, -3.78531460e+14,\n",
       "       -3.78531460e+14, -3.78531460e+14, -3.78531460e+14, -2.51286907e+14,\n",
       "       -3.78531460e+14, -3.78531460e+14, -3.78531460e+14, -3.78531460e+14,\n",
       "       -3.78531460e+14, -3.78531460e+14, -3.78531460e+14, -3.78531460e+14,\n",
       "       -3.78531460e+14, -3.78531460e+14, -3.78531460e+14, -1.21309275e+16,\n",
       "       -1.21309275e+16, -1.21309275e+16, -1.21309275e+16, -1.21309275e+16,\n",
       "       -4.54241521e+16, -4.54241521e+16, -4.54241521e+16, -4.54241521e+16,\n",
       "        1.01687226e+16,  1.01687226e+16,  1.01687226e+16,  1.01687226e+16,\n",
       "        1.01687226e+16, -1.06351713e+16, -1.06351713e+16, -1.06351713e+16,\n",
       "       -1.06351713e+16, -1.06351713e+16, -1.06351713e+16, -7.19169682e+15,\n",
       "       -7.19169682e+15, -7.19169682e+15, -7.19169682e+15,  7.75030368e+14,\n",
       "       -4.10694533e+15, -4.10694533e+15, -4.10694533e+15, -4.10694533e+15,\n",
       "       -8.80452227e+15,  2.16765138e+16,  2.16765138e+16,  2.16765138e+16,\n",
       "        2.16765138e+16, -1.37702968e+15, -1.91169996e+16, -1.91169996e+16,\n",
       "       -1.91169996e+16, -1.91169996e+16, -1.91169996e+16, -1.91169996e+16,\n",
       "       -5.06788579e+15, -1.13435862e+16, -1.13435862e+16, -1.13435862e+16,\n",
       "       -1.13435862e+16, -1.13435862e+16, -1.13435862e+16, -5.60830672e+15,\n",
       "       -2.78323563e+16, -2.78323563e+16, -2.78323563e+16, -2.78323563e+16,\n",
       "       -2.78323563e+16, -3.09898351e+16, -3.09898351e+16, -3.09898351e+16,\n",
       "       -3.09898351e+16, -4.39346975e+15, -4.39346975e+15, -4.39346975e+15,\n",
       "       -4.39346975e+15, -4.39346975e+15, -4.39346975e+15,  3.13017468e+15,\n",
       "        1.85652927e+16,  1.85652927e+16,  1.85652927e+16,  1.10416483e+16])"
      ]
     },
     "execution_count": 75,
     "metadata": {},
     "output_type": "execute_result"
    }
   ],
   "source": [
    "# Explore coefficients\n",
    "linreg.coef_"
   ]
  },
  {
   "cell_type": "markdown",
   "metadata": {},
   "source": [
    "**Evaluate**\n",
    "\n",
    "- \n"
   ]
  },
  {
   "cell_type": "code",
   "execution_count": null,
   "metadata": {},
   "outputs": [],
   "source": [
    "# Let's wrap up that coefficient exploration in a function\n"
   ]
  },
  {
   "cell_type": "markdown",
   "metadata": {},
   "source": [
    "## Fitting Ridge and Lasso\n",
    "\n",
    "* https://scikit-learn.org/stable/modules/generated/sklearn.linear_model.Lasso.html\n",
    "* https://scikit-learn.org/stable/modules/generated/sklearn.linear_model.Ridge.html"
   ]
  },
  {
   "cell_type": "markdown",
   "metadata": {},
   "source": [
    "### LASSO"
   ]
  },
  {
   "cell_type": "code",
   "execution_count": 76,
   "metadata": {},
   "outputs": [
    {
     "name": "stdout",
     "output_type": "stream",
     "text": [
      "Train R2: 0.8901917658981585\n",
      "Test R2: 0.8615905414873004\n",
      "*****\n",
      "Train MSE: 666694668.2421196\n",
      "Test MSE: 969601032.6483977\n",
      "*****\n",
      "Train RMSE: 25820.43121719929\n",
      "Test RMSE: 31138.41731123144\n"
     ]
    },
    {
     "name": "stderr",
     "output_type": "stream",
     "text": [
      "/opt/anaconda3/envs/learn-env/lib/python3.8/site-packages/sklearn/linear_model/_coordinate_descent.py:529: ConvergenceWarning: Objective did not converge. You might want to increase the number of iterations. Duality gap: 32074011488.25049, tolerance: 664823241.805396\n",
      "  model = cd_fast.enet_coordinate_descent(\n"
     ]
    }
   ],
   "source": [
    "from sklearn.linear_model import Lasso\n",
    "\n",
    "lasso = Lasso() # Lasso is also known as the L1 norm \n",
    "\n",
    "# Fit\n",
    "lasso.fit(train_df, y_train)\n",
    "\n",
    "# Predict\n",
    "train_preds = lasso.predict(train_df)\n",
    "test_preds = lasso.predict(test_df)\n",
    "\n",
    "# Evaluate\n",
    "evaluate(y_train, train_preds, y_test, test_preds)"
   ]
  },
  {
   "cell_type": "code",
   "execution_count": 79,
   "metadata": {
    "scrolled": true
   },
   "outputs": [
    {
     "data": {
      "text/plain": [
       "{'MSSubClass': 23045.749091753994,\n",
       " 'LotArea': 69153.836145813,\n",
       " 'OverallQual': 74595.38206321676,\n",
       " 'OverallCond': 41107.981108843065,\n",
       " 'YearBuilt': 26220.382623718528,\n",
       " 'YearRemodAdd': 5988.335765107996,\n",
       " 'MasVnrArea': 4648.09022597526,\n",
       " 'BsmtFinSF1': 0.0,\n",
       " 'BsmtFinSF2': 4849.4559395726865,\n",
       " 'BsmtUnfSF': 7777.920844871131,\n",
       " 'TotalBsmtSF': 1741.57472139853,\n",
       " '1stFlrSF': 63604.76042320385,\n",
       " '2ndFlrSF': 96895.97584864669,\n",
       " 'LowQualFinSF': 27417.491610494522,\n",
       " 'GrLivArea': 62884.56196032811,\n",
       " 'BsmtFullBath': 24805.356915284305,\n",
       " 'BsmtHalfBath': 104.46421495761523,\n",
       " 'FullBath': 28909.390378450902,\n",
       " 'HalfBath': 8301.817433378845,\n",
       " 'BedroomAbvGr': -7690.268164069751,\n",
       " 'KitchenAbvGr': -53379.47417252352,\n",
       " 'TotRmsAbvGrd': 39514.12138214492,\n",
       " 'Fireplaces': 17680.89518126145,\n",
       " 'GarageYrBlt': -3530.872923625518,\n",
       " 'GarageCars': 52442.48298413535,\n",
       " 'GarageArea': 149.46957727470695,\n",
       " 'WoodDeckSF': 18480.494824553472,\n",
       " 'OpenPorchSF': -4251.982556783525,\n",
       " 'EnclosedPorch': 8603.840348301603,\n",
       " '3SsnPorch': 35102.41207078073,\n",
       " 'ScreenPorch': 21120.926575848374,\n",
       " 'PoolArea': 5681.269399324944,\n",
       " 'MiscVal': -26204.134236664155,\n",
       " 'MSZoning_C (all)': -5596.645040112521,\n",
       " 'MSZoning_FV': 11296.838095873904,\n",
       " 'MSZoning_RH': -2081.9215972436705,\n",
       " 'MSZoning_RL': -0.0,\n",
       " 'MSZoning_RM': 4323.338774055315,\n",
       " 'LotShape_IR1': -1844.7730354647958,\n",
       " 'LotShape_IR2': 11268.605291071859,\n",
       " 'LotShape_IR3': -33795.75871974199,\n",
       " 'LotShape_Reg': 5.0385257723614885,\n",
       " 'LotConfig_Corner': 291.26485857603757,\n",
       " 'LotConfig_CulDSac': 15519.1109890796,\n",
       " 'LotConfig_FR2': -7579.029651418198,\n",
       " 'LotConfig_FR3': -22885.516374925726,\n",
       " 'LotConfig_Inside': 0.0,\n",
       " 'Neighborhood_Blmngtn': 8966.649758079904,\n",
       " 'Neighborhood_Blueste': -0.0,\n",
       " 'Neighborhood_BrDale': 12050.382086825908,\n",
       " 'Neighborhood_BrkSide': -1453.6461868058473,\n",
       " 'Neighborhood_ClearCr': -2334.329646293565,\n",
       " 'Neighborhood_CollgCr': 1549.6669969658751,\n",
       " 'Neighborhood_Crawfor': 22921.488662399013,\n",
       " 'Neighborhood_Edwards': -17286.205623169575,\n",
       " 'Neighborhood_Gilbert': -567.0164522774567,\n",
       " 'Neighborhood_IDOTRR': -16678.531312011513,\n",
       " 'Neighborhood_MeadowV': -614.7811578278189,\n",
       " 'Neighborhood_Mitchel': -13949.60978583363,\n",
       " 'Neighborhood_NAmes': -8019.906266298706,\n",
       " 'Neighborhood_NPkVill': 20941.733467846465,\n",
       " 'Neighborhood_NWAmes': -4083.1034814741274,\n",
       " 'Neighborhood_NoRidge': 46176.73057588494,\n",
       " 'Neighborhood_NridgHt': 36221.347576099615,\n",
       " 'Neighborhood_OldTown': -16679.659215593067,\n",
       " 'Neighborhood_SWISU': -12277.251728866442,\n",
       " 'Neighborhood_Sawyer': -4629.932311295051,\n",
       " 'Neighborhood_SawyerW': 4445.710704991326,\n",
       " 'Neighborhood_Somerst': 15045.830295216121,\n",
       " 'Neighborhood_StoneBr': 60646.00725334744,\n",
       " 'Neighborhood_Timber': 1680.8634852781847,\n",
       " 'Neighborhood_Veenker': 19224.071004687405,\n",
       " 'Condition1_Artery': 3792.9841322247144,\n",
       " 'Condition1_Feedr': 0.0,\n",
       " 'Condition1_Norm': 11752.131173982285,\n",
       " 'Condition1_PosA': -4097.560009416376,\n",
       " 'Condition1_PosN': -11416.590730730519,\n",
       " 'Condition1_RRAe': -13064.813124217413,\n",
       " 'Condition1_RRAn': 11321.748703160836,\n",
       " 'Condition1_RRNe': 9277.962557972558,\n",
       " 'Condition1_RRNn': -9408.058622737979,\n",
       " 'BldgType_1Fam': 30258.70821918886,\n",
       " 'BldgType_2fmCon': 5817.958757766486,\n",
       " 'BldgType_Duplex': 15675.285683680246,\n",
       " 'BldgType_Twnhs': -18828.693521686037,\n",
       " 'BldgType_TwnhsE': -15298.840936384218,\n",
       " 'HouseStyle_1.5Fin': 4682.566985021069,\n",
       " 'HouseStyle_1.5Unf': 24714.750719846135,\n",
       " 'HouseStyle_1Story': 27199.784716697555,\n",
       " 'HouseStyle_2.5Fin': -21483.48343689622,\n",
       " 'HouseStyle_2.5Unf': -13281.971899456308,\n",
       " 'HouseStyle_2Story': -13221.945130828848,\n",
       " 'HouseStyle_SFoyer': 1020.4648614632509,\n",
       " 'HouseStyle_SLvl': -0.8292261749568017,\n",
       " 'RoofStyle_Flat': -1725.9332565451098,\n",
       " 'RoofStyle_Gable': -4190.221940778164,\n",
       " 'RoofStyle_Gambrel': 4471.161504494336,\n",
       " 'RoofStyle_Hip': -1005.1499247456982,\n",
       " 'RoofStyle_Mansard': 15423.066504440741,\n",
       " 'RoofStyle_Shed': 17450.226546889895,\n",
       " 'Exterior1st_AsbShng': 11813.99916111471,\n",
       " 'Exterior1st_AsphShn': -0.0,\n",
       " 'Exterior1st_BrkComm': -0.0,\n",
       " 'Exterior1st_BrkFace': 22367.080627997177,\n",
       " 'Exterior1st_CBlock': -0.0,\n",
       " 'Exterior1st_CemntBd': 1000.4450628195686,\n",
       " 'Exterior1st_HdBoard': -2056.695664660867,\n",
       " 'Exterior1st_ImStucc': -70483.57132942365,\n",
       " 'Exterior1st_MetalSd': 5258.018090641086,\n",
       " 'Exterior1st_Plywood': 919.1157015211247,\n",
       " 'Exterior1st_Stone': 22797.148095636257,\n",
       " 'Exterior1st_Stucco': -5832.843882712839,\n",
       " 'Exterior1st_VinylSd': -3565.1695721436363,\n",
       " 'Exterior1st_Wd Sdng': 34.96578409067683,\n",
       " 'Exterior1st_WdShing': -2891.4024676707836,\n",
       " 'Exterior2nd_AsbShng': -2160.820426650477,\n",
       " 'Exterior2nd_AsphShn': 0.0,\n",
       " 'Exterior2nd_Brk Cmn': -1673.6549698400404,\n",
       " 'Exterior2nd_BrkFace': 12107.516254787983,\n",
       " 'Exterior2nd_CBlock': -0.0,\n",
       " 'Exterior2nd_CmentBd': 6849.067500291206,\n",
       " 'Exterior2nd_HdBoard': 3522.7075175206783,\n",
       " 'Exterior2nd_ImStucc': 63127.15567050964,\n",
       " 'Exterior2nd_MetalSd': 0.0,\n",
       " 'Exterior2nd_Other': -4213.054693015503,\n",
       " 'Exterior2nd_Plywood': -2332.9253737382487,\n",
       " 'Exterior2nd_Stone': -22118.684087235164,\n",
       " 'Exterior2nd_Stucco': -6252.468374269036,\n",
       " 'Exterior2nd_VinylSd': 7884.867243354813,\n",
       " 'Exterior2nd_Wd Sdng': 5628.358226942516,\n",
       " 'Exterior2nd_Wd Shng': -245.40653428947073,\n",
       " 'MasVnrType_BrkCmn': -9702.234610238494,\n",
       " 'MasVnrType_BrkFace': -1529.567246599527,\n",
       " 'MasVnrType_None': 0.0,\n",
       " 'MasVnrType_Stone': 3166.5500270729653,\n",
       " 'MasVnrType_missing': 2373.6372042049866,\n",
       " 'ExterQual_Ex': 5727.284108096971,\n",
       " 'ExterQual_Fa': 9614.86312015619,\n",
       " 'ExterQual_Gd': -6.128802467420415,\n",
       " 'ExterQual_TA': -619.8989182653256,\n",
       " 'ExterCond_Ex': -2480.682221853846,\n",
       " 'ExterCond_Fa': 5265.5363691321545,\n",
       " 'ExterCond_Gd': -0.0,\n",
       " 'ExterCond_Po': -4083.7077934898966,\n",
       " 'ExterCond_TA': 71.39805449521694,\n",
       " 'Foundation_BrkTil': -6996.903676019331,\n",
       " 'Foundation_CBlock': 0.0,\n",
       " 'Foundation_PConc': 1965.999019584079,\n",
       " 'Foundation_Slab': -7602.58008229782,\n",
       " 'Foundation_Stone': 3071.493796037377,\n",
       " 'Foundation_Wood': -24198.949883529134,\n",
       " 'BsmtQual_Ex': 29439.023229219223,\n",
       " 'BsmtQual_Fa': 6083.7703017673475,\n",
       " 'BsmtQual_Gd': -1053.878216175755,\n",
       " 'BsmtQual_TA': -0.0,\n",
       " 'BsmtQual_missing': -0.0,\n",
       " 'BsmtCond_Fa': -0.0,\n",
       " 'BsmtCond_Gd': 1313.4498046292715,\n",
       " 'BsmtCond_Po': -3450.483296545238,\n",
       " 'BsmtCond_TA': 7681.65889744646,\n",
       " 'BsmtCond_missing': -0.0,\n",
       " 'BsmtExposure_Av': 2701.4861015330303,\n",
       " 'BsmtExposure_Gd': 21205.958953825128,\n",
       " 'BsmtExposure_Mn': -0.0,\n",
       " 'BsmtExposure_No': -4047.619596734451,\n",
       " 'BsmtExposure_missing': -0.0,\n",
       " 'BsmtFinType1_ALQ': 1616.8138432336232,\n",
       " 'BsmtFinType1_BLQ': -0.0,\n",
       " 'BsmtFinType1_GLQ': 3967.367382993839,\n",
       " 'BsmtFinType1_LwQ': -7178.444749585354,\n",
       " 'BsmtFinType1_Rec': 29.442269302959506,\n",
       " 'BsmtFinType1_Unf': -8760.365802718323,\n",
       " 'BsmtFinType1_missing': -0.0,\n",
       " 'BsmtFinType2_ALQ': 9219.918587246859,\n",
       " 'BsmtFinType2_BLQ': -2444.3614384457846,\n",
       " 'BsmtFinType2_GLQ': -7187.31882442163,\n",
       " 'BsmtFinType2_LwQ': -646.2469287759046,\n",
       " 'BsmtFinType2_Rec': 2727.986545030623,\n",
       " 'BsmtFinType2_Unf': 4131.355324749251,\n",
       " 'BsmtFinType2_missing': -0.0,\n",
       " 'HeatingQC_Ex': 1509.8531937278135,\n",
       " 'HeatingQC_Fa': 445.96183891713304,\n",
       " 'HeatingQC_Gd': -4360.027086302382,\n",
       " 'HeatingQC_Po': -12025.52586791658,\n",
       " 'HeatingQC_TA': 0.0,\n",
       " 'KitchenQual_Ex': 27032.83137348107,\n",
       " 'KitchenQual_Fa': 2637.362379132403,\n",
       " 'KitchenQual_Gd': -0.9737117704318211,\n",
       " 'KitchenQual_TA': -1071.8887562590562,\n",
       " 'GarageType_2Types': -19785.037484680888,\n",
       " 'GarageType_Attchd': 388.53732590794294,\n",
       " 'GarageType_Basment': 6426.0158337164385,\n",
       " 'GarageType_BuiltIn': -2447.427890219977,\n",
       " 'GarageType_CarPort': -3573.170048746227,\n",
       " 'GarageType_Detchd': 2180.154246262318,\n",
       " 'GarageType_missing': 8160.090288288003,\n",
       " 'GarageFinish_Fin': -0.9337703411730599,\n",
       " 'GarageFinish_RFn': 464.6449651479414,\n",
       " 'GarageFinish_Unf': -479.3578968742898,\n",
       " 'GarageFinish_missing': 653.7053377278371}"
      ]
     },
     "execution_count": 79,
     "metadata": {},
     "output_type": "execute_result"
    }
   ],
   "source": [
    "dict(zip(train_df.columns, lasso.coef_))"
   ]
  },
  {
   "cell_type": "code",
   "execution_count": 84,
   "metadata": {},
   "outputs": [
    {
     "name": "stdout",
     "output_type": "stream",
     "text": [
      "Train R2: 0.8789951036421941\n",
      "Test R2: 0.8744740298069457\n",
      "*****\n",
      "Train MSE: 734674588.7755469\n",
      "Test MSE: 879348215.2970793\n",
      "*****\n",
      "Train RMSE: 27104.881272116778\n",
      "Test RMSE: 29653.80608449916\n"
     ]
    }
   ],
   "source": [
    "# Adjust HYPERPARAMETERS -- check documentation!\n",
    "lasso_v2 = Lasso(alpha=100) # Lasso is also known as the L1 norm \n",
    "\n",
    "# Fit\n",
    "lasso_v2.fit(train_df, y_train)\n",
    "\n",
    "# Predict\n",
    "train_preds = lasso_v2.predict(train_df)\n",
    "test_preds = lasso_v2.predict(test_df)\n",
    "\n",
    "# Evaluate\n",
    "evaluate(y_train, train_preds, y_test, test_preds)"
   ]
  },
  {
   "cell_type": "code",
   "execution_count": 87,
   "metadata": {},
   "outputs": [
    {
     "data": {
      "text/plain": [
       "{'MSSubClass': -0.0,\n",
       " 'LotArea': 24923.94772732408,\n",
       " 'OverallQual': 85954.33339465312,\n",
       " 'OverallCond': 29673.53503167045,\n",
       " 'YearBuilt': 14292.093234864264,\n",
       " 'YearRemodAdd': 6132.078140285386,\n",
       " 'MasVnrArea': 0.0,\n",
       " 'BsmtFinSF1': 0.0,\n",
       " 'BsmtFinSF2': 0.0,\n",
       " 'BsmtUnfSF': 1794.0136831131008,\n",
       " 'TotalBsmtSF': 0.0,\n",
       " '1stFlrSF': 0.0,\n",
       " '2ndFlrSF': 36365.147505163244,\n",
       " 'LowQualFinSF': 0.0,\n",
       " 'GrLivArea': 141324.8708247482,\n",
       " 'BsmtFullBath': 21861.94646721838,\n",
       " 'BsmtHalfBath': 0.0,\n",
       " 'FullBath': 24157.87296652644,\n",
       " 'HalfBath': 7269.6917299883635,\n",
       " 'BedroomAbvGr': 0.0,\n",
       " 'KitchenAbvGr': -0.0,\n",
       " 'TotRmsAbvGrd': 30292.337711600027,\n",
       " 'Fireplaces': 19206.57206481014,\n",
       " 'GarageYrBlt': -0.0,\n",
       " 'GarageCars': 48174.14738900044,\n",
       " 'GarageArea': 0.0,\n",
       " 'WoodDeckSF': 13362.849577853345,\n",
       " 'OpenPorchSF': -0.0,\n",
       " 'EnclosedPorch': -0.0,\n",
       " '3SsnPorch': 1352.8826606333375,\n",
       " 'ScreenPorch': 13759.255663387308,\n",
       " 'PoolArea': 0.0,\n",
       " 'MiscVal': -0.0,\n",
       " 'MSZoning_C (all)': -0.0,\n",
       " 'MSZoning_FV': 933.3322023920897,\n",
       " 'MSZoning_RH': -0.0,\n",
       " 'MSZoning_RL': 0.0,\n",
       " 'MSZoning_RM': -2357.7666244281204,\n",
       " 'LotShape_IR1': -19.511677110658397,\n",
       " 'LotShape_IR2': 12186.239243914299,\n",
       " 'LotShape_IR3': -10391.382863764115,\n",
       " 'LotShape_Reg': 0.21122935902905388,\n",
       " 'LotConfig_Corner': 0.0,\n",
       " 'LotConfig_CulDSac': 12662.21519591077,\n",
       " 'LotConfig_FR2': -4548.12541734376,\n",
       " 'LotConfig_FR3': -0.0,\n",
       " 'LotConfig_Inside': -0.0,\n",
       " 'Neighborhood_Blmngtn': -0.0,\n",
       " 'Neighborhood_Blueste': -0.0,\n",
       " 'Neighborhood_BrDale': 0.0,\n",
       " 'Neighborhood_BrkSide': 1556.7800076778017,\n",
       " 'Neighborhood_ClearCr': 0.0,\n",
       " 'Neighborhood_CollgCr': -0.0,\n",
       " 'Neighborhood_Crawfor': 20245.812119441878,\n",
       " 'Neighborhood_Edwards': -12782.16087451803,\n",
       " 'Neighborhood_Gilbert': -1553.365449531696,\n",
       " 'Neighborhood_IDOTRR': -2952.654040486393,\n",
       " 'Neighborhood_MeadowV': -0.0,\n",
       " 'Neighborhood_Mitchel': -8558.951715611332,\n",
       " 'Neighborhood_NAmes': -6150.443822117995,\n",
       " 'Neighborhood_NPkVill': 0.0,\n",
       " 'Neighborhood_NWAmes': -710.715718944764,\n",
       " 'Neighborhood_NoRidge': 44949.33375845077,\n",
       " 'Neighborhood_NridgHt': 28709.258899499746,\n",
       " 'Neighborhood_OldTown': -7455.456262127414,\n",
       " 'Neighborhood_SWISU': -3395.6389311872945,\n",
       " 'Neighborhood_Sawyer': -2647.7437036114957,\n",
       " 'Neighborhood_SawyerW': 0.0,\n",
       " 'Neighborhood_Somerst': 16727.990634388745,\n",
       " 'Neighborhood_StoneBr': 47517.247174893906,\n",
       " 'Neighborhood_Timber': 0.0,\n",
       " 'Neighborhood_Veenker': 5509.547650744476,\n",
       " 'Condition1_Artery': 0.0,\n",
       " 'Condition1_Feedr': -0.0,\n",
       " 'Condition1_Norm': 11422.08247343149,\n",
       " 'Condition1_PosA': -0.0,\n",
       " 'Condition1_PosN': -421.4732978507682,\n",
       " 'Condition1_RRAe': -0.0,\n",
       " 'Condition1_RRAn': 2071.047315355486,\n",
       " 'Condition1_RRNe': 0.0,\n",
       " 'Condition1_RRNn': -0.0,\n",
       " 'BldgType_1Fam': 21042.40251874723,\n",
       " 'BldgType_2fmCon': 2363.7408287138664,\n",
       " 'BldgType_Duplex': 0.0,\n",
       " 'BldgType_Twnhs': -2798.6094072832766,\n",
       " 'BldgType_TwnhsE': -3775.836947754725,\n",
       " 'HouseStyle_1.5Fin': 2815.87293301771,\n",
       " 'HouseStyle_1.5Unf': 2828.983130439919,\n",
       " 'HouseStyle_1Story': 14616.529852026335,\n",
       " 'HouseStyle_2.5Fin': -0.0,\n",
       " 'HouseStyle_2.5Unf': -3311.3562656104746,\n",
       " 'HouseStyle_2Story': -6755.903390834228,\n",
       " 'HouseStyle_SFoyer': -0.0,\n",
       " 'HouseStyle_SLvl': -0.0,\n",
       " 'RoofStyle_Flat': -0.0,\n",
       " 'RoofStyle_Gable': -4014.059840806657,\n",
       " 'RoofStyle_Gambrel': 0.0,\n",
       " 'RoofStyle_Hip': 0.0,\n",
       " 'RoofStyle_Mansard': 0.0,\n",
       " 'RoofStyle_Shed': 0.0,\n",
       " 'Exterior1st_AsbShng': -0.0,\n",
       " 'Exterior1st_AsphShn': -0.0,\n",
       " 'Exterior1st_BrkComm': -0.0,\n",
       " 'Exterior1st_BrkFace': 21312.18510913417,\n",
       " 'Exterior1st_CBlock': 0.0,\n",
       " 'Exterior1st_CemntBd': 2576.5361823832327,\n",
       " 'Exterior1st_HdBoard': -1907.9096382311416,\n",
       " 'Exterior1st_ImStucc': -0.0,\n",
       " 'Exterior1st_MetalSd': 0.0,\n",
       " 'Exterior1st_Plywood': 0.0,\n",
       " 'Exterior1st_Stone': -0.0,\n",
       " 'Exterior1st_Stucco': -0.0,\n",
       " 'Exterior1st_VinylSd': 0.0,\n",
       " 'Exterior1st_Wd Sdng': 0.0,\n",
       " 'Exterior1st_WdShing': -0.0,\n",
       " 'Exterior2nd_AsbShng': 0.0,\n",
       " 'Exterior2nd_AsphShn': 0.0,\n",
       " 'Exterior2nd_Brk Cmn': -0.0,\n",
       " 'Exterior2nd_BrkFace': 1516.8988700241937,\n",
       " 'Exterior2nd_CBlock': 0.0,\n",
       " 'Exterior2nd_CmentBd': 0.0,\n",
       " 'Exterior2nd_HdBoard': -0.0,\n",
       " 'Exterior2nd_ImStucc': 27594.768507951907,\n",
       " 'Exterior2nd_MetalSd': -0.0,\n",
       " 'Exterior2nd_Other': -0.0,\n",
       " 'Exterior2nd_Plywood': -2466.664693167712,\n",
       " 'Exterior2nd_Stone': -0.0,\n",
       " 'Exterior2nd_Stucco': -8576.620476496593,\n",
       " 'Exterior2nd_VinylSd': 0.0,\n",
       " 'Exterior2nd_Wd Sdng': 0.0,\n",
       " 'Exterior2nd_Wd Shng': -4404.885472479917,\n",
       " 'MasVnrType_BrkCmn': -0.0,\n",
       " 'MasVnrType_BrkFace': -0.0,\n",
       " 'MasVnrType_None': 0.0,\n",
       " 'MasVnrType_Stone': 1978.7123413715124,\n",
       " 'MasVnrType_missing': 0.0,\n",
       " 'ExterQual_Ex': 5995.404547646561,\n",
       " 'ExterQual_Fa': 0.0,\n",
       " 'ExterQual_Gd': -0.0,\n",
       " 'ExterQual_TA': -3320.267496532318,\n",
       " 'ExterCond_Ex': 0.0,\n",
       " 'ExterCond_Fa': 0.0,\n",
       " 'ExterCond_Gd': 0.0,\n",
       " 'ExterCond_Po': -0.0,\n",
       " 'ExterCond_TA': -0.0,\n",
       " 'Foundation_BrkTil': -2294.6186454548906,\n",
       " 'Foundation_CBlock': 3069.660998138983,\n",
       " 'Foundation_PConc': 4292.721393957299,\n",
       " 'Foundation_Slab': -0.0,\n",
       " 'Foundation_Stone': 0.0,\n",
       " 'Foundation_Wood': -0.0,\n",
       " 'BsmtQual_Ex': 32310.449797899444,\n",
       " 'BsmtQual_Fa': 0.0,\n",
       " 'BsmtQual_Gd': 0.0,\n",
       " 'BsmtQual_TA': -683.8600820521273,\n",
       " 'BsmtQual_missing': -2874.6382231313255,\n",
       " 'BsmtCond_Fa': -0.0,\n",
       " 'BsmtCond_Gd': 0.0,\n",
       " 'BsmtCond_Po': 0.0,\n",
       " 'BsmtCond_TA': 6646.926151433213,\n",
       " 'BsmtCond_missing': -719.6487449227607,\n",
       " 'BsmtExposure_Av': 829.8812794514298,\n",
       " 'BsmtExposure_Gd': 21969.534129941632,\n",
       " 'BsmtExposure_Mn': -0.0,\n",
       " 'BsmtExposure_No': -5574.035854260134,\n",
       " 'BsmtExposure_missing': -163.44031275322772,\n",
       " 'BsmtFinType1_ALQ': 1965.0847067742488,\n",
       " 'BsmtFinType1_BLQ': 0.0,\n",
       " 'BsmtFinType1_GLQ': 5263.9641218126935,\n",
       " 'BsmtFinType1_LwQ': -2684.118575090206,\n",
       " 'BsmtFinType1_Rec': 0.0,\n",
       " 'BsmtFinType1_Unf': -5656.126187406559,\n",
       " 'BsmtFinType1_missing': -397.6326601082667,\n",
       " 'BsmtFinType2_ALQ': 989.0050484160874,\n",
       " 'BsmtFinType2_BLQ': -0.0,\n",
       " 'BsmtFinType2_GLQ': -0.0,\n",
       " 'BsmtFinType2_LwQ': -0.0,\n",
       " 'BsmtFinType2_Rec': 0.0,\n",
       " 'BsmtFinType2_Unf': 1205.0358308058403,\n",
       " 'BsmtFinType2_missing': -0.0,\n",
       " 'HeatingQC_Ex': 2034.3629330218562,\n",
       " 'HeatingQC_Fa': -0.0,\n",
       " 'HeatingQC_Gd': -3254.844244751582,\n",
       " 'HeatingQC_Po': -0.0,\n",
       " 'HeatingQC_TA': 24.56215992911834,\n",
       " 'KitchenQual_Ex': 28483.949878439907,\n",
       " 'KitchenQual_Fa': 0.0,\n",
       " 'KitchenQual_Gd': -0.0,\n",
       " 'KitchenQual_TA': -3203.936900151533,\n",
       " 'GarageType_2Types': -0.0,\n",
       " 'GarageType_Attchd': 239.36782133627932,\n",
       " 'GarageType_Basment': -0.0,\n",
       " 'GarageType_BuiltIn': 0.0,\n",
       " 'GarageType_CarPort': -0.0,\n",
       " 'GarageType_Detchd': -0.0,\n",
       " 'GarageType_missing': 4370.399978616353,\n",
       " 'GarageFinish_Fin': 0.0,\n",
       " 'GarageFinish_RFn': -0.0,\n",
       " 'GarageFinish_Unf': -1485.4666282896987,\n",
       " 'GarageFinish_missing': 303.62785779049966}"
      ]
     },
     "execution_count": 87,
     "metadata": {},
     "output_type": "execute_result"
    }
   ],
   "source": [
    "# Check Lasso Coefficients\n",
    "dict(zip(train_df.columns, lasso_v2.coef_))"
   ]
  },
  {
   "cell_type": "markdown",
   "metadata": {},
   "source": [
    "### Ridge"
   ]
  },
  {
   "cell_type": "code",
   "execution_count": 86,
   "metadata": {
    "scrolled": true
   },
   "outputs": [
    {
     "name": "stdout",
     "output_type": "stream",
     "text": [
      "Train R2: 0.8887013079926785\n",
      "Test R2: 0.8668141030170736\n",
      "*****\n",
      "Train MSE: 675743901.6347739\n",
      "Test MSE: 933008369.7784265\n",
      "*****\n",
      "Train RMSE: 25995.07456490121\n",
      "Test RMSE: 30545.185705417254\n"
     ]
    }
   ],
   "source": [
    "from sklearn.linear_model import Ridge\n",
    "\n",
    "ridge = Ridge() # Ridge is also known as the L2 norm\n",
    "\n",
    "# Fit\n",
    "ridge.fit(train_df, y_train)\n",
    "# Predict\n",
    "train_preds = ridge.predict(train_df)\n",
    "test_preds = ridge.predict(test_df)\n",
    "\n",
    "# Evaluate\n",
    "evaluate(y_train, train_preds, y_test, test_preds)"
   ]
  },
  {
   "cell_type": "code",
   "execution_count": 95,
   "metadata": {},
   "outputs": [
    {
     "data": {
      "text/plain": [
       "4.767837024023809e+16"
      ]
     },
     "execution_count": 95,
     "metadata": {},
     "output_type": "execute_result"
    }
   ],
   "source": [
    "max(linreg.coef_)"
   ]
  },
  {
   "cell_type": "code",
   "execution_count": 94,
   "metadata": {},
   "outputs": [
    {
     "data": {
      "text/plain": [
       "75202.13034289141"
      ]
     },
     "execution_count": 94,
     "metadata": {},
     "output_type": "execute_result"
    }
   ],
   "source": [
    "max(dict(zip(train_df.columns, ridge.coef_)).values())"
   ]
  },
  {
   "cell_type": "code",
   "execution_count": 105,
   "metadata": {},
   "outputs": [
    {
     "name": "stdout",
     "output_type": "stream",
     "text": [
      "Train R2: 0.8741288928408802\n",
      "Test R2: 0.8610739032837424\n",
      "*****\n",
      "Train MSE: 764219520.6498665\n",
      "Test MSE: 973220242.932567\n",
      "*****\n",
      "Train RMSE: 27644.520626154226\n",
      "Test RMSE: 31196.478053340685\n"
     ]
    }
   ],
   "source": [
    "# Adjust HYPERPARAMETERS\n",
    "ridge_v2 = Ridge(alpha=10) # Ridge is also known as the L2 norm\n",
    "\n",
    "# Fit\n",
    "ridge_v2.fit(train_df, y_train)\n",
    "# Predict\n",
    "train_preds = ridge_v2.predict(train_df)\n",
    "test_preds = ridge_v2.predict(test_df)\n",
    "\n",
    "# Evaluate\n",
    "evaluate(y_train, train_preds, y_test, test_preds)"
   ]
  },
  {
   "cell_type": "code",
   "execution_count": 106,
   "metadata": {},
   "outputs": [
    {
     "data": {
      "text/plain": [
       "47009.208354857605"
      ]
     },
     "execution_count": 106,
     "metadata": {},
     "output_type": "execute_result"
    }
   ],
   "source": [
    "# Check Ridge Coefficients\n",
    "max(ridge_v2.coef_)"
   ]
  },
  {
   "cell_type": "markdown",
   "metadata": {},
   "source": [
    "### Let's Discuss\n",
    "\n",
    "- \n"
   ]
  },
  {
   "cell_type": "markdown",
   "metadata": {},
   "source": [
    "## Ridge & Lasso: Other benefits\n",
    "\n",
    "### Ridge:\n",
    "* We can \"shrink down\" prediction variables effects instead of deleting/zeroing them\n",
    "* When you have features with high multicollinearity, the coefficients are automatically spread across them (you won't have redundancy)\n",
    "* Since includes all features it can be computationally expensive (for many variables)\n",
    "\n",
    "### Lasso:\n",
    "* When you have a lot of variables it performs feature selection for you!\n",
    "* Multicollinearity is also dealt with\n"
   ]
  },
  {
   "cell_type": "markdown",
   "metadata": {},
   "source": [
    "### Por que no los dos??\n",
    "\n",
    "Enter ElasticNet: https://scikit-learn.org/stable/modules/generated/sklearn.linear_model.ElasticNet.html"
   ]
  },
  {
   "cell_type": "code",
   "execution_count": null,
   "metadata": {},
   "outputs": [],
   "source": []
  }
 ],
 "metadata": {
  "kernelspec": {
   "display_name": "learn-env",
   "language": "python",
   "name": "learn-env"
  },
  "language_info": {
   "codemirror_mode": {
    "name": "ipython",
    "version": 3
   },
   "file_extension": ".py",
   "mimetype": "text/x-python",
   "name": "python",
   "nbconvert_exporter": "python",
   "pygments_lexer": "ipython3",
   "version": "3.8.5"
  }
 },
 "nbformat": 4,
 "nbformat_minor": 4
}
