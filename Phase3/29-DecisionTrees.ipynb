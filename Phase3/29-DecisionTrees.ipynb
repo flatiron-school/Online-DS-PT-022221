{
 "cells": [
  {
   "cell_type": "markdown",
   "metadata": {},
   "source": [
    "# Decision Trees\n",
    "\n",
    "Decision trees are a highly interpretable<sup>1</sup>, easy-to-overfit type of model. They are best for modeling datasets where the relationship between the features and the target can be represented well with \"if-this-then-this\" type of statements. They will be the basis for one of the most popular ensemble methods: random forests.\n",
    "\n",
    "A decision tree is a machine learning model that works by *partitioning* our sample space in a hierarchical way.\n",
    "\n",
    "How do we partition the space? The key idea is that some attributes provide more *information* than others when trying to make a decision.\n",
    "\n",
    "<sup>1</sup>_\"Highly interpretable\" matters if you need to be able to explain how the model decided to classify a given record in a given way. Simpler models tend to be more interpretable._\n"
   ]
  },
  {
   "cell_type": "markdown",
   "metadata": {},
   "source": [
    "### Example:\n",
    "\n",
    "![example titanic decision tree](images/titanic_tree.png)"
   ]
  },
  {
   "cell_type": "code",
   "execution_count": null,
   "metadata": {},
   "outputs": [],
   "source": [
    "# Imports\n",
    "import pandas as pd\n",
    "import numpy as np\n",
    "import seaborn as sns\n",
    "import matplotlib.pyplot as plt"
   ]
  },
  {
   "cell_type": "code",
   "execution_count": null,
   "metadata": {},
   "outputs": [],
   "source": [
    "# This data is a processed version of recent Austin Animal Shelter data\n",
    "df = pd.read_csv(\"data/processed_shelter.csv\")"
   ]
  },
  {
   "cell_type": "code",
   "execution_count": null,
   "metadata": {},
   "outputs": [],
   "source": [
    "df.head()"
   ]
  },
  {
   "cell_type": "code",
   "execution_count": null,
   "metadata": {},
   "outputs": [],
   "source": [
    "df.info()"
   ]
  },
  {
   "cell_type": "code",
   "execution_count": null,
   "metadata": {},
   "outputs": [],
   "source": [
    "df.describe()"
   ]
  },
  {
   "cell_type": "markdown",
   "metadata": {},
   "source": [
    "## Decision Trees by Hand\n",
    "\n",
    "Without using any Python tools, we could try to develop a decision tree to determine the outcome for a given animal. Let's start with a simplified view of 10 samples from our dataset."
   ]
  },
  {
   "cell_type": "code",
   "execution_count": null,
   "metadata": {},
   "outputs": [],
   "source": [
    "example_sample = df.sample(10, random_state=20)\n",
    "example_sample"
   ]
  },
  {
   "cell_type": "markdown",
   "metadata": {},
   "source": [
    "We want to predict whether `adoption` is a 1 or a 0. Can we perfectly represent this with \"if-then\" statements?\n",
    "\n",
    "#### Split on Dogs/Non-Dogs\n",
    "\n",
    "Let's start with \"if the animal is a dog\" to split into 2 groups"
   ]
  },
  {
   "cell_type": "code",
   "execution_count": null,
   "metadata": {},
   "outputs": [],
   "source": [
    "dogs = example_sample[example_sample[\"is_dog\"]==1]\n",
    "dogs"
   ]
  },
  {
   "cell_type": "code",
   "execution_count": null,
   "metadata": {},
   "outputs": [],
   "source": [
    "non_dogs = example_sample[example_sample[\"is_dog\"]==0]\n",
    "non_dogs"
   ]
  },
  {
   "cell_type": "markdown",
   "metadata": {},
   "source": [
    "#### Assessment of Decision Tree After One Split\n",
    "\n",
    "Initially we had 10 animals, 60% of which were adopted, 40% of which weren't\n",
    "\n",
    "Now we have `dogs`, of which 3/4 were adopted, and `non_dogs`, of which 3/6 were adopted. If we guessed \"adoption\" for all dogs, and \"not adoption\" for all non-dogs, we would be correct the majority of the time (6/10)\n",
    "\n",
    "Let's do another split.\n",
    "\n",
    "#### Split on Age\n",
    "\n",
    "Let's split each of the existing groups into 2 groups based on whether the animals are more than or less than 300 days old."
   ]
  },
  {
   "cell_type": "code",
   "execution_count": null,
   "metadata": {},
   "outputs": [],
   "source": [
    "old_dogs = dogs[dogs[\"age_in_days\"]>300]\n",
    "old_dogs"
   ]
  },
  {
   "cell_type": "code",
   "execution_count": null,
   "metadata": {},
   "outputs": [],
   "source": [
    "young_dogs = dogs[dogs[\"age_in_days\"]<=300]\n",
    "young_dogs"
   ]
  },
  {
   "cell_type": "code",
   "execution_count": null,
   "metadata": {},
   "outputs": [],
   "source": [
    "old_non_dogs = non_dogs[non_dogs[\"age_in_days\"]>300]\n",
    "old_non_dogs"
   ]
  },
  {
   "cell_type": "code",
   "execution_count": null,
   "metadata": {},
   "outputs": [],
   "source": [
    "young_non_dogs = non_dogs[non_dogs[\"age_in_days\"]<=300]\n",
    "young_non_dogs"
   ]
  },
  {
   "cell_type": "markdown",
   "metadata": {},
   "source": [
    "#### Assessment of Decision Tree After Two Splits\n",
    "\n",
    "Now we have four categories, based on two splits:\n",
    "\n",
    "```\n",
    "if (dog):\n",
    "  --> if (age>300):   NOT ADOPTED (1/2 adopted)\n",
    "  --> if (age<=300):  ADOPTED     (2/2 adopted)\n",
    "if (not dog):\n",
    "  --> if (age>300):   NOT ADOPTED (0/3 adopted)\n",
    "  --> if (age<=300):  ADOPTED     (3/3 adopted)\n",
    "```\n",
    "\n",
    "So if we guessed the majority class for each category each time (randomly choosing a tie-breaker), we would guess:\n",
    "\n",
    " - All old dogs are not adopted\n",
    " - All young dogs are adopted\n",
    " - All old non-dogs are not adopted\n",
    " - All young non-dogs are adopted\n",
    "\n",
    "...which would mean we got 9 right, 1 wrong on the dataset overall, i.e. an 90% accuracy.  Pretty good for a pretty simple model! Definitely a lot easier than hand-calculating a logistic regression or kNN model.\n",
    "\n",
    "#### Reflection\n",
    "\n",
    "If we wanted to keep going, to be able to get to 100% accuracy, we could further slice by `age_in_days` to get the right answers for those last one. But rather than get into that, let's think about what we just did, and whether it was optimal.\n",
    "\n",
    "Was splitting on dog/non-dog the right choice for our first split?\n",
    "\n",
    "But how would my partition be *best* split? And how do I really know that the second split is better than the first? Can I do better than intuition here?  "
   ]
  },
  {
   "cell_type": "markdown",
   "metadata": {},
   "source": [
    "## Decision Trees at a High Level"
   ]
  },
  {
   "cell_type": "markdown",
   "metadata": {},
   "source": [
    "### High level of how the Decision Tree algorithm works\n",
    "\n",
    " - Select the best attribute using Attribute Selection Measures (Gini/Entropy) to split the records\n",
    " -  Make that attribute a decision node and break the dataset into smaller subsets\n",
    " -  Starts tree building by repeating this process recursively for each child until one of these conditions will match:\n",
    "    - You have reached a pure split: the leaf has only 1 class\n",
    "    - There are no more remaining attributes to split on\n",
    "    - There are no more instances"
   ]
  },
  {
   "cell_type": "markdown",
   "metadata": {},
   "source": [
    "### Important Terminology related to Decision Trees\n",
    "Let’s look at the basic terminologies used with Decision trees:\n",
    "\n",
    "- **Root Node:** It represents entire population or sample, aka the root of the tree (which is typically, and unintuitively, at the top of the representation of most decision trees)\n",
    "- **Decision Node:** When a sub-node splits into further sub-nodes, then it is called a Decision node\n",
    "- **Leaf / Terminal Node:** Nodes with no children (no further splits) are called Leaf or Terminal nodes\n",
    "- **Pruning:** When we reduce the size of decision trees by removing nodes (opposite of Splitting), the process is called pruning\n",
    "- **Branch / Sub-Tree:** A sub section of decision tree is called branch or sub-tree\n",
    "- **Parent and Child Node:** A node, which is divided into sub-nodes is called parent node of sub-nodes, whereas sub-nodes are the child of parent nodes\n"
   ]
  },
  {
   "cell_type": "markdown",
   "metadata": {},
   "source": [
    "![](images/decision_leaf.webp)"
   ]
  },
  {
   "cell_type": "markdown",
   "metadata": {},
   "source": [
    "### Entropy/Information Gain and Gini\n",
    "\n",
    "The goal is to have our ultimate categories be fully \"ordered\" (for a binary dependent variable, we'd have the 1's in one group and the 0's in the other). So one way to assess the value of a split is to measure how *disordered* our groups are, and there is a notion of *entropy* that measures precisely this.\n",
    "\n",
    "The entropy of the whole dataset is given by:\n",
    "\n",
    "$\\large E = -\\Sigma^n_i p_i\\log_2(p_i)$,\n",
    "\n",
    "where $p_i$ is the probability of belonging to the $i$th group, where $n$ is the number of groups (i.e. target values).\n",
    "\n",
    "**Entropy will always be between 0 and 1. The closer to 1, the more disordered your group.**\n",
    "\n",
    "![](images/Entropy_mapped.png)\n",
    "\n",
    "To repeat, in the present case we have only two groups of interest: adoption and no adoption.\n",
    "\n",
    "#### Entropy for Entire Sample (10 Pets)\n",
    "\n",
    "5 out of 10 were adopted and 5 out of 10 were not adopted, so **these are the relevant probabilities** for our calculation of entropy.\n",
    "\n",
    "So our entropy for the sample above is:\n",
    "\n",
    "$-0.5*\\log_2(0.5) -0.5*\\log_2(0.5)$.\n",
    "\n",
    "Let's use the ``numpy's`` `log2()` function to calculate this:"
   ]
  },
  {
   "cell_type": "code",
   "execution_count": null,
   "metadata": {},
   "outputs": [],
   "source": [
    "(-.5) * np.log2(.5) - (.5) * np.log2(.5)"
   ]
  },
  {
   "cell_type": "markdown",
   "metadata": {},
   "source": [
    "That is a very disordered collection! Which makes sense, since it's 50/50 adopted/not adopted - perfectly disordered if you think about it."
   ]
  },
  {
   "cell_type": "markdown",
   "metadata": {},
   "source": [
    "#### Entropy for Dog/Non-Dog Split\n",
    "\n",
    "To calculate the entropy of a *split*, we're going to want to calculate the entropy of each of the groups made by the split, and then calculate a weighted average of those groups' entropies––weighted, that is, by the size of the groups. Let's calculate the entropy of the split produced by our \"is our animal a dog\" question:\n",
    "\n",
    "**Group 1 (not a dog):** 3 adoptions, 3 not adoptions (6 total not dogs)\n",
    "\n",
    "$E_{g1} = -\\frac{3}{6} * \\log_2\\left(\\frac{3}{6}\\right) - \\frac{3}{6} * \\log_2\\left(\\frac{3}{6}\\right)$. \n",
    "\n",
    "**Group 2 (dogs):** 3 adoptions, 1 not adoption (4 total dogs)\n",
    "\n",
    "$E_{g2} = -\\frac{3}{4} * \\log_2\\left(\\frac{3}{4}\\right) - \\frac{1}{4} * \\log_2\\left(\\frac{1}{4}\\right)$.\n"
   ]
  },
  {
   "cell_type": "code",
   "execution_count": null,
   "metadata": {},
   "outputs": [],
   "source": [
    "# Group one (not dogs)\n",
    "Egnd = (-3/6)*np.log2(3/6) - (3/6)*np.log2(3/6)\n",
    "print(Egnd)\n",
    "\n",
    "# Group two (dogs)\n",
    "Egd = (-3/4)*np.log2(3/4) - (1/4)*np.log2(1/4)\n",
    "print(Egd)"
   ]
  },
  {
   "cell_type": "markdown",
   "metadata": {},
   "source": [
    "Now weight those by the probability of each group, and sum them, to find the entropy of the split:"
   ]
  },
  {
   "cell_type": "code",
   "execution_count": null,
   "metadata": {},
   "outputs": [],
   "source": [
    "# Weighted sum\n",
    "pgnd = (6/10) * Egnd\n",
    "pgd = (4/10) * Egd\n",
    "\n",
    "E_split_d = pgnd + pgd\n",
    "E_split_d"
   ]
  },
  {
   "cell_type": "markdown",
   "metadata": {},
   "source": [
    "So, we have made some improvement from the 1.0 entropy of the original, now we are getting 0.92"
   ]
  },
  {
   "cell_type": "markdown",
   "metadata": {},
   "source": [
    "#### Entropy for Male/Female Split\n",
    "\n",
    "Compare that to the male/female question (if we asked that first):\n",
    "\n",
    "**Group 1 (female):** 2 adoptions, 2 not adoptions (4 total females)\n",
    "\n",
    "$E_{g1} = -\\frac{2}{4} * \\log_2\\left(\\frac{2}{4}\\right) - \\frac{2}{4} * \\log_2\\left(\\frac{2}{4}\\right)$. \n",
    "\n",
    "**Group 2 (male):** 4 adoptions, 2 not adoption (6 total males)\n",
    "\n",
    "$E_{g2} = -\\frac{4}{6} * \\log_2\\left(\\frac{4}{6}\\right) - \\frac{2}{6} * \\log_2\\left(\\frac{2}{6}\\right)$."
   ]
  },
  {
   "cell_type": "code",
   "execution_count": null,
   "metadata": {},
   "outputs": [],
   "source": [
    "# Group one (females) \n",
    "Egf =  - (2/4)*np.log2(2/4) - (2/4)*np.log2(2/4)\n",
    "print(Egf)\n",
    "\n",
    "# Group two (males)\n",
    "Egm = - (4/6)*np.log2(4/6) - (2/6)*np.log2(2/6) \n",
    "print(Egm)"
   ]
  },
  {
   "cell_type": "code",
   "execution_count": null,
   "metadata": {},
   "outputs": [],
   "source": [
    "# Weighted sum\n",
    "pgm = Egf * 4/10\n",
    "pgf = Egm * 6/10\n",
    "\n",
    "E_split_f = pgm + pgf\n",
    "E_split_f"
   ]
  },
  {
   "cell_type": "markdown",
   "metadata": {},
   "source": [
    "This entropy is 0.95, whereas the other split had 0.92"
   ]
  },
  {
   "cell_type": "markdown",
   "metadata": {},
   "source": [
    "#### Choosing the Best Information Gain\n",
    "\n",
    "For a given split, the **information gain** is simply the entropy of the parent group less the entropy of the split."
   ]
  },
  {
   "cell_type": "code",
   "execution_count": null,
   "metadata": {},
   "outputs": [],
   "source": [
    "total_entropy_sample = (-5/10)*np.log2(5/10) - (5/10) * np.log2(5/10)\n",
    "\n",
    "# Information gain, dog or cat\n",
    "ig_d = total_entropy_sample - E_split_d\n",
    "print(f\"Information gain dog/cat: {ig_d}\")\n",
    "\n",
    "# Information gain, male or female\n",
    "ig_f = total_entropy_sample - E_split_f\n",
    "print(f\"Information gain male/female: {ig_f}\")"
   ]
  },
  {
   "cell_type": "markdown",
   "metadata": {},
   "source": [
    "For a given parent, then, we maximize our model's performance by *minimizing* the split's entropy (which maximizes our information gain!).\n",
    "\n",
    "What we'd like to do then is:\n",
    "\n",
    "1. to look at the entropies of all possible splits, and\n",
    "2. to choose the split with the lowest entropy.\n",
    "\n",
    "In practice there are far too many splits for it to be practical for a person to calculate all these different entropies ...\n",
    "\n",
    "... but we can make computers do these calculations for us! (thanks sklearn)"
   ]
  },
  {
   "cell_type": "markdown",
   "metadata": {},
   "source": [
    "### Gini Impurity\n",
    "\n",
    "An alternative metric to entropy comes from the work of Corrado Gini. The Gini Impurity is defined as:\n",
    "\n",
    "$\\large G = 1 - \\Sigma_ip_i^2$, or, equivalently, $\\large G = \\Sigma_ip_i(1-p_i)$.\n",
    "\n",
    "where, again, $p_i$ is the probability of belonging to the $i$th group.\n",
    "\n",
    "**Gini Impurity will always be between 0 and 0.5. The closer to 0.5, the more disordered your group.**"
   ]
  },
  {
   "cell_type": "markdown",
   "metadata": {},
   "source": [
    "### Impurity Metric Caveat"
   ]
  },
  {
   "cell_type": "markdown",
   "metadata": {},
   "source": [
    "\n",
    "As found in *Introduction to Data Mining* by Tan et. al:\n",
    "\n",
    "> \"Studies have shown that the choice of impurity measure has little effect on the performance of decision tree induction algorithms. This is because many impurity measures are quite consistent with each other [...]. Indeed, the strategy used to prune the tree has a greater impact on the final tree than the choice of impurity measure.\"\n",
    "\n",
    "(We'll get into more detail on \"pruning\" and why you want to do it in the \"Issues with Decision Trees\" section)"
   ]
  },
  {
   "cell_type": "markdown",
   "metadata": {},
   "source": [
    "## Decision Trees in SciKit-Learn\n",
    "\n",
    "Having gone into all of that math detail... we actually won't need to implement that ourselves, in practice. Instead, we can use Sklearn - specifically, the `DecisionTreeClassifier` (since we're classifying our data).\n",
    "\n",
    "(There is also a `DecisionTreeRegressor` which doesn't use entropy or Gini to measure the utility of the split, and instead uses a technique to reduce the standard deviation, since this works on data with a continuous target variable. More details [here](https://www.saedsayad.com/decision_tree_reg.htm) if you are curious.)"
   ]
  },
  {
   "cell_type": "code",
   "execution_count": null,
   "metadata": {},
   "outputs": [],
   "source": [
    "# More imports\n",
    "from sklearn.tree import DecisionTreeClassifier\n",
    "from sklearn.model_selection import train_test_split"
   ]
  },
  {
   "cell_type": "markdown",
   "metadata": {},
   "source": [
    "#### Data Preparation"
   ]
  },
  {
   "cell_type": "code",
   "execution_count": null,
   "metadata": {},
   "outputs": [],
   "source": [
    "X = df.drop(['adoption'], axis=1)\n",
    "y = df.adoption\n",
    "\n",
    "# Split into train and test\n",
    "X_train, X_test, y_train, y_test = train_test_split(\n",
    "    X, y, random_state=42, test_size=.2)\n",
    "X_train.head()"
   ]
  },
  {
   "cell_type": "markdown",
   "metadata": {},
   "source": [
    "#### Creating, Fitting, and Scoring the Model"
   ]
  },
  {
   "cell_type": "code",
   "execution_count": null,
   "metadata": {},
   "outputs": [],
   "source": [
    "dt = DecisionTreeClassifier()\n",
    "dt.fit(X_train, y_train)\n",
    "\n",
    "y_hat_test = dt.predict(X_test)\n",
    "\n",
    "print(f'Training Score: {dt.score(X_train, y_train)}')\n",
    "print(f'Test Score: {dt.score(X_test, y_test)}')"
   ]
  },
  {
   "cell_type": "markdown",
   "metadata": {},
   "source": [
    "#### Additional Model Evaluation Metrics"
   ]
  },
  {
   "cell_type": "code",
   "execution_count": null,
   "metadata": {},
   "outputs": [],
   "source": [
    "from sklearn.metrics import plot_confusion_matrix\n",
    "from sklearn.metrics import f1_score, roc_auc_score, accuracy_score, recall_score, precision_score\n",
    "\n",
    "plot_confusion_matrix(dt, X_test, y_test, display_labels=['not adopted', 'adopted']);"
   ]
  },
  {
   "cell_type": "code",
   "execution_count": null,
   "metadata": {},
   "outputs": [],
   "source": [
    "print(f'Test Accuracy Score: {accuracy_score(y_test, y_hat_test)}')\n",
    "print('-------------------')\n",
    "print(f'Test Precision Score: {precision_score(y_test, y_hat_test)}')\n",
    "print('-------------------')\n",
    "print(f'Test Recall Score: {recall_score(y_test, y_hat_test)}')\n",
    "print('-------------------')\n",
    "print(f'Test F1_score: {f1_score(y_test, y_hat_test)}')\n",
    "print('-------------------')\n",
    "print(f'Test ROC-AUC Score: {roc_auc_score(y_test, y_hat_test)}')"
   ]
  },
  {
   "cell_type": "markdown",
   "metadata": {},
   "source": [
    "#### Visualizations"
   ]
  },
  {
   "cell_type": "code",
   "execution_count": null,
   "metadata": {},
   "outputs": [],
   "source": [
    "from sklearn.tree import plot_tree\n",
    "\n",
    "fig, ax = plt.subplots(figsize=(12, 8))\n",
    "plot_tree(dt, ax=ax);"
   ]
  },
  {
   "cell_type": "markdown",
   "metadata": {},
   "source": [
    "## The Biggest Issue with Decision Trees?\n",
    "\n",
    "## Decision trees are SUPER prone to overfitting!"
   ]
  },
  {
   "cell_type": "markdown",
   "metadata": {},
   "source": [
    "The image above is a good visual to represent an overfit tree.  Let's look at the accuracy."
   ]
  },
  {
   "cell_type": "code",
   "execution_count": null,
   "metadata": {},
   "outputs": [],
   "source": [
    "dt.score(X_train, y_train)"
   ]
  },
  {
   "cell_type": "markdown",
   "metadata": {},
   "source": [
    "Let's compare it to the test set:"
   ]
  },
  {
   "cell_type": "code",
   "execution_count": null,
   "metadata": {},
   "outputs": [],
   "source": [
    "dt.score(X_test, y_test)"
   ]
  },
  {
   "cell_type": "markdown",
   "metadata": {},
   "source": [
    "That's a big drop-off!"
   ]
  },
  {
   "cell_type": "markdown",
   "metadata": {},
   "source": [
    "### Issue: Bias-Variance with Decision Trees\n",
    "\n",
    "The CART algorithm will repeatedly partition data into smaller and smaller subsets until those final subsets are homogeneous in terms of the outcome variable. In practice this often means that the final subsets (known as the leaves of the tree) each consist of only one or a few data points. \n",
    "\n",
    "This results in low-bias, high variance trees.\n"
   ]
  },
  {
   "cell_type": "markdown",
   "metadata": {},
   "source": [
    "### Issue: Decision trees are very sensitive to training data"
   ]
  },
  {
   "cell_type": "markdown",
   "metadata": {},
   "source": [
    "Let's fit two trees based on two different samples of the data, and look at the difference."
   ]
  },
  {
   "cell_type": "code",
   "execution_count": null,
   "metadata": {},
   "outputs": [],
   "source": [
    "dt_samp1 = DecisionTreeClassifier(max_depth=5)\n",
    "\n",
    "X_tr_sample_1 = X_train.sample(100, random_state=1)\n",
    "y_tr_sample_1 = y_train[X_tr_sample_1.index]\n",
    "\n",
    "dt_samp1.fit(X_tr_sample_1, y_tr_sample_1)"
   ]
  },
  {
   "cell_type": "code",
   "execution_count": null,
   "metadata": {},
   "outputs": [],
   "source": [
    "fig, ax = plt.subplots(figsize=(12, 8))\n",
    "plot_tree(dt_samp1, ax=ax, feature_names=X_train.columns);"
   ]
  },
  {
   "cell_type": "code",
   "execution_count": null,
   "metadata": {},
   "outputs": [],
   "source": [
    "dt_samp2 = DecisionTreeClassifier(max_depth=5)\n",
    "\n",
    "X_tr_sample_2 = X_train.sample(90, random_state=42)\n",
    "y_tr_sample_2 = y_train[X_tr_sample_2.index]\n",
    "\n",
    "dt_samp2.fit(X_tr_sample_2, y_tr_sample_2)"
   ]
  },
  {
   "cell_type": "code",
   "execution_count": null,
   "metadata": {},
   "outputs": [],
   "source": [
    "fig, ax = plt.subplots(figsize=(12, 8))\n",
    "plot_tree(dt_samp2, ax=ax, feature_names=X_train.columns);"
   ]
  },
  {
   "cell_type": "markdown",
   "metadata": {},
   "source": [
    "### Issue: Greediness\n",
    "\n",
    "Decision trees will always split on the features with the most advantageous split. \n",
    "\n",
    "Take the above example.  The algorithm is almost exclusively using the `age_in_days` feature, potentially obscuring more-valuable information in `is_female` or `is_dog` \n",
    "\n",
    "We will see how to overcome greediness - making these models care about other features that can be useful - with Random Forests (Topic 30)."
   ]
  },
  {
   "cell_type": "markdown",
   "metadata": {},
   "source": [
    "### Solution: Stopping Criterion - Pruning Parameters\n",
    "\n",
    "The recursive binary splitting procedure described above needs to know when to stop splitting as it works its way down the tree with the training data.\n",
    "\n",
    "`min_samples_leaf`: The most common stopping procedure is to use a minimum count on the number of training instances assigned to each leaf node. If the count is less than some minimum then the split is not accepted and the node is taken as a final leaf node.\n",
    "\n",
    "`max_leaf_nodes` : Reduce the number of leaf nodes\n",
    "\n",
    "`max_depth` : Reduce the depth of the tree to build a generalized tree.\n",
    "\n",
    "`min_impurity_split` : A node will split if its impurity is above the threshold, otherwise it is a leaf.\n",
    "\n",
    "\n",
    "Typically these _hyper-parameters_ are set after verification on test data (or based on cross validation results)"
   ]
  },
  {
   "cell_type": "markdown",
   "metadata": {},
   "source": [
    "Let's try limiting the depth (by default the limit is `None`, i.e. unlimited depth):"
   ]
  },
  {
   "cell_type": "code",
   "execution_count": null,
   "metadata": {},
   "outputs": [],
   "source": [
    "# Start with a max depth of 10\n",
    "dt = DecisionTreeClassifier(max_depth=10)\n",
    "\n",
    "dt.fit(X_train, y_train)\n",
    "\n",
    "print(f'Train Accuracy: {dt.score(X_train, y_train)}')\n",
    "print(f'Test Accuracy: {dt.score(X_test, y_test)}')"
   ]
  },
  {
   "cell_type": "code",
   "execution_count": null,
   "metadata": {},
   "outputs": [],
   "source": [
    "fig, ax = plt.subplots(figsize=(12, 8))\n",
    "plot_tree(dt, ax=ax);"
   ]
  },
  {
   "cell_type": "code",
   "execution_count": null,
   "metadata": {},
   "outputs": [],
   "source": [
    "# Now a max depth of 5\n",
    "dt = DecisionTreeClassifier(max_depth=5)\n",
    "\n",
    "dt.fit(X_train, y_train)\n",
    "\n",
    "print(f'Train Accuracy: {dt.score(X_train, y_train)}')\n",
    "print(f'Test Accuracy: {dt.score(X_test, y_test)}')"
   ]
  },
  {
   "cell_type": "code",
   "execution_count": null,
   "metadata": {},
   "outputs": [],
   "source": [
    "fig, ax = plt.subplots(figsize=(12, 8))\n",
    "plot_tree(dt, ax=ax);"
   ]
  },
  {
   "cell_type": "code",
   "execution_count": null,
   "metadata": {},
   "outputs": [],
   "source": [
    "# Now a max depth of 1\n",
    "dt = DecisionTreeClassifier(max_depth=1)\n",
    "\n",
    "dt.fit(X_train, y_train)\n",
    "\n",
    "print(f'Train Accuracy: {dt.score(X_train, y_train)}')\n",
    "print(f'Test Accuracy: {dt.score(X_test, y_test)}')"
   ]
  },
  {
   "cell_type": "code",
   "execution_count": null,
   "metadata": {},
   "outputs": [],
   "source": [
    "fig, ax = plt.subplots(figsize=(12, 8))\n",
    "plot_tree(dt, ax=ax, \n",
    "          feature_names=X_train.columns); #adding this since we can read it now!"
   ]
  },
  {
   "cell_type": "markdown",
   "metadata": {},
   "source": [
    "Let's try limiting minimum samples per leaf (by default the limit is `1`, i.e. a leaf node can have as few as 1 sample in it):"
   ]
  },
  {
   "cell_type": "code",
   "execution_count": null,
   "metadata": {},
   "outputs": [],
   "source": [
    "# Start with 5\n",
    "dt = DecisionTreeClassifier(min_samples_leaf=5)\n",
    "\n",
    "dt.fit(X_train, y_train)\n",
    "\n",
    "print(f'Train Accuracy: {dt.score(X_train, y_train)}')\n",
    "print(f'Test Accuracy: {dt.score(X_test, y_test)}')"
   ]
  },
  {
   "cell_type": "code",
   "execution_count": null,
   "metadata": {},
   "outputs": [],
   "source": [
    "fig, ax = plt.subplots(figsize=(12, 8))\n",
    "plot_tree(dt, ax=ax);"
   ]
  },
  {
   "cell_type": "code",
   "execution_count": null,
   "metadata": {},
   "outputs": [],
   "source": [
    "# Then 10\n",
    "dt = DecisionTreeClassifier(min_samples_leaf=10)\n",
    "\n",
    "dt.fit(X_train, y_train)\n",
    "\n",
    "print(f'Train Accuracy: {dt.score(X_train, y_train)}')\n",
    "print(f'Test Accuracy: {dt.score(X_test, y_test)}')"
   ]
  },
  {
   "cell_type": "code",
   "execution_count": null,
   "metadata": {},
   "outputs": [],
   "source": [
    "fig, ax = plt.subplots(figsize=(12, 8))\n",
    "plot_tree(dt, ax=ax);"
   ]
  },
  {
   "cell_type": "markdown",
   "metadata": {},
   "source": [
    "![](https://miro.medium.com/max/1136/1*3MDxpY_pIMs0yb4dc55KpQ.jpeg)\n",
    "\n",
    "We played around with some hyperparameters in the above trees, and they can have a huge impact! We'll explore using a Grid Search in Topic 30 as a way to programmatically and systematically decide which hyperparameters are best."
   ]
  },
  {
   "cell_type": "markdown",
   "metadata": {},
   "source": [
    "Now, last but not least:\n",
    "\n",
    "## Feature Importances\n",
    "\n",
    "The fitted tree has an attribute called `dt.feature_importances_`. What does this mean? Roughly, the importance (or \"Gini importance\") of a feature is a sort of weighted average of the impurity decrease at internal nodes that make use of the feature. The weighting comes from the number of samples that depend on the relevant nodes.\n",
    "\n",
    "> The importance of a feature is computed as the (normalized) total reduction of the criterion brought by that feature. It is also known as the Gini importance. [sklearn](https://scikit-learn.org/stable/modules/generated/sklearn.tree.DecisionTreeClassifier.html#sklearn.tree.DecisionTreeClassifier.feature_importances_)"
   ]
  },
  {
   "cell_type": "code",
   "execution_count": null,
   "metadata": {},
   "outputs": [],
   "source": [
    "dt = DecisionTreeClassifier(max_depth=8)\n",
    "dt.fit(X_train, y_train)\n",
    "\n",
    "print(f'Train Accuracy: {dt.score(X_train, y_train)}')\n",
    "print(f'Test Accuracy: {dt.score(X_test, y_test)}')\n",
    "print('*' * 10)\n",
    "\n",
    "for fi, feature in zip(dt.feature_importances_, X_train.columns):\n",
    "    print(f'{feature}: {fi}')"
   ]
  },
  {
   "cell_type": "markdown",
   "metadata": {},
   "source": [
    "More on feature importances [here](https://towardsdatascience.com/the-mathematics-of-decision-trees-random-forest-and-feature-importance-in-scikit-learn-and-spark-f2861df67e3)"
   ]
  },
  {
   "cell_type": "markdown",
   "metadata": {},
   "source": [
    "# Conclusions\n",
    "\n",
    "Decision Trees are a 'white box' type of ML algorithm. It shares internal decision-making logic, which is not available in the black box type of algorithms such as Neural Networks. The training time is faster compared to neural networks, too. \n",
    "\n",
    "Note that decision tress are non-parametric and do not depend upon probability distribution assumptions. Decision trees can handle high dimensional data (many columns) with good accuracy - but need to be pruned to be effective!"
   ]
  },
  {
   "cell_type": "markdown",
   "metadata": {},
   "source": [
    "#### Pros\n",
    "- Decision trees are easy to interpret and visualize\n",
    "- They can easily capture non-linear patterns\n",
    "- They require little data preprocessing from the user - for example, there is no need to normalize/scale columns\n",
    "- They can be used for feature engineering such as predicting missing values, suitable for variable selection\n",
    "- They have no assumptions about distributions because of the non-parametric nature of the algorithm"
   ]
  },
  {
   "cell_type": "markdown",
   "metadata": {},
   "source": [
    "#### Cons\n",
    "- Sensitive to noisy data - easily overfits to noisy data\n",
    "- Small variations (or variance) in data can result in a completely different decision tree. This can be reduced by bagging and boosting algorithms (still to come in this phase).\n",
    "- Decision trees are biased with imbalanced datasets, so it is recommended that you balance out the dataset before creating the decision tree."
   ]
  }
 ],
 "metadata": {
  "kernelspec": {
   "display_name": "learn-env",
   "language": "python",
   "name": "learn-env"
  },
  "language_info": {
   "codemirror_mode": {
    "name": "ipython",
    "version": 3
   },
   "file_extension": ".py",
   "mimetype": "text/x-python",
   "name": "python",
   "nbconvert_exporter": "python",
   "pygments_lexer": "ipython3",
   "version": "3.8.5"
  }
 },
 "nbformat": 4,
 "nbformat_minor": 4
}
